{
 "cells": [
  {
   "cell_type": "code",
   "execution_count": 1,
   "id": "0ce621da",
   "metadata": {},
   "outputs": [
    {
     "name": "stdout",
     "output_type": "stream",
     "text": [
      "Requirement already satisfied: pyspark in c:\\users\\sharon\\anaconda3\\lib\\site-packages (3.2.1)\n",
      "Requirement already satisfied: py4j==0.10.9.3 in c:\\users\\sharon\\anaconda3\\lib\\site-packages (from pyspark) (0.10.9.3)\n",
      "Note: you may need to restart the kernel to use updated packages.\n"
     ]
    }
   ],
   "source": [
    "pip install pyspark"
   ]
  },
  {
   "cell_type": "code",
   "execution_count": 2,
   "id": "0b713ce6",
   "metadata": {},
   "outputs": [],
   "source": [
    "import pyspark\n",
    "from pyspark.sql.types import StructType, StructField, StringType, IntegerType, FloatType"
   ]
  },
  {
   "cell_type": "code",
   "execution_count": 3,
   "id": "186cf082",
   "metadata": {},
   "outputs": [],
   "source": [
    "from pyspark.sql import SparkSession"
   ]
  },
  {
   "cell_type": "code",
   "execution_count": 4,
   "id": "df7814ac",
   "metadata": {},
   "outputs": [
    {
     "data": {
      "text/html": [
       "\n",
       "            <div>\n",
       "                <p><b>SparkSession - in-memory</b></p>\n",
       "                \n",
       "        <div>\n",
       "            <p><b>SparkContext</b></p>\n",
       "\n",
       "            <p><a href=\"http://LAPTOP-9G0PHG3M:4041\">Spark UI</a></p>\n",
       "\n",
       "            <dl>\n",
       "              <dt>Version</dt>\n",
       "                <dd><code>v3.2.1</code></dd>\n",
       "              <dt>Master</dt>\n",
       "                <dd><code>local[*]</code></dd>\n",
       "              <dt>AppName</dt>\n",
       "                <dd><code>COVID</code></dd>\n",
       "            </dl>\n",
       "        </div>\n",
       "        \n",
       "            </div>\n",
       "        "
      ],
      "text/plain": [
       "<pyspark.sql.session.SparkSession at 0x1d9e385ae80>"
      ]
     },
     "execution_count": 4,
     "metadata": {},
     "output_type": "execute_result"
    }
   ],
   "source": [
    "spark=SparkSession.builder.appName('COVID').getOrCreate()\n",
    "spark"
   ]
  },
  {
   "cell_type": "code",
   "execution_count": 5,
   "id": "94ed06a1",
   "metadata": {},
   "outputs": [],
   "source": [
    "# Load the Cases Over Time data file (which is a comma separated file) into a dataframe\n",
    "df=spark.read.csv('us_cases_over_time.csv')"
   ]
  },
  {
   "cell_type": "code",
   "execution_count": 6,
   "id": "420a011b",
   "metadata": {},
   "outputs": [
    {
     "name": "stdout",
     "output_type": "stream",
     "text": [
      "+---------------+-----+---------+----------+----------+--------+---------+---------+----------+----------+---------+----------+--------------------+-------------+--------------+\n",
      "|            _c0|  _c1|      _c2|       _c3|       _c4|     _c5|      _c6|      _c7|       _c8|       _c9|     _c10|      _c11|                _c12|         _c13|          _c14|\n",
      "+---------------+-----+---------+----------+----------+--------+---------+---------+----------+----------+---------+----------+--------------------+-------------+--------------+\n",
      "|submission_date|state|tot_cases|conf_cases|prob_cases|new_case|pnew_case|tot_death|conf_death|prob_death|new_death|pnew_death|          created_at|consent_cases|consent_deaths|\n",
      "|     01/25/2020|   OR|        0|      null|      null|       0|     null|        0|      null|      null|        0|      null|03/26/2020 04:22:...|        Agree|         Agree|\n",
      "|     07/23/2020|   KY|    25147|     23882|      1265|     607|       61|      684|       680|         4|        7|         0|07/24/2020 02:18:...|        Agree|         Agree|\n",
      "|     02/01/2021|   DC|    37008|      null|      null|     136|        0|      916|      null|      null|        3|         0|02/02/2021 02:51:...|         null|          null|\n",
      "|     04/11/2021|   NJ|   953490|    837052|    116438|    3387|      517|    24870|     22297|      2573|       11|         0|04/12/2021 01:39:...|        Agree|         Agree|\n",
      "+---------------+-----+---------+----------+----------+--------+---------+---------+----------+----------+---------+----------+--------------------+-------------+--------------+\n",
      "only showing top 5 rows\n",
      "\n"
     ]
    }
   ],
   "source": [
    "# Show sample records and check if all columns are displayed correctly\n",
    "df.show(5)"
   ]
  },
  {
   "cell_type": "code",
   "execution_count": 7,
   "id": "edcb9b22",
   "metadata": {},
   "outputs": [],
   "source": [
    "# Take a look at the dataframe schema and check if data types of all columns are correctly inferred\n",
    "df=spark.read.option('header','true').csv('us_cases_over_time.csv')"
   ]
  },
  {
   "cell_type": "code",
   "execution_count": 8,
   "id": "7af41d87",
   "metadata": {},
   "outputs": [
    {
     "name": "stdout",
     "output_type": "stream",
     "text": [
      "root\n",
      " |-- submission_date: string (nullable = true)\n",
      " |-- state: string (nullable = true)\n",
      " |-- tot_cases: string (nullable = true)\n",
      " |-- conf_cases: string (nullable = true)\n",
      " |-- prob_cases: string (nullable = true)\n",
      " |-- new_case: string (nullable = true)\n",
      " |-- pnew_case: string (nullable = true)\n",
      " |-- tot_death: string (nullable = true)\n",
      " |-- conf_death: string (nullable = true)\n",
      " |-- prob_death: string (nullable = true)\n",
      " |-- new_death: string (nullable = true)\n",
      " |-- pnew_death: string (nullable = true)\n",
      " |-- created_at: string (nullable = true)\n",
      " |-- consent_cases: string (nullable = true)\n",
      " |-- consent_deaths: string (nullable = true)\n",
      "\n"
     ]
    }
   ],
   "source": [
    "# Take a look at the dataframe description and check descriptions or stats of all numeric columns are appripriate\n",
    "# Note - We can use <df>.describe.show() function for this.\n",
    "df.describe()\n",
    "df.printSchema()"
   ]
  },
  {
   "cell_type": "code",
   "execution_count": 43,
   "id": "868f5f9a",
   "metadata": {},
   "outputs": [
    {
     "name": "stdout",
     "output_type": "stream",
     "text": [
      "root\n",
      " |-- submission_date: string (nullable = true)\n",
      " |-- state: string (nullable = true)\n",
      " |-- tot_cases: string (nullable = true)\n",
      " |-- conf_cases: string (nullable = true)\n",
      " |-- prob_cases: string (nullable = true)\n",
      " |-- new_case: string (nullable = true)\n",
      " |-- pnew_case: string (nullable = true)\n",
      " |-- tot_death: string (nullable = true)\n",
      " |-- conf_death: string (nullable = true)\n",
      " |-- prob_death: string (nullable = true)\n",
      " |-- new_death: string (nullable = true)\n",
      " |-- pnew_death: float (nullable = true)\n",
      " |-- created_at: string (nullable = true)\n",
      " |-- consent_cases: string (nullable = true)\n",
      " |-- consent_deaths: string (nullable = true)\n",
      "\n",
      "+---------------+-----+---------+----------+----------+--------+---------+---------+----------+----------+---------+----------+--------------------+-------------+--------------+\n",
      "|submission_date|state|tot_cases|conf_cases|prob_cases|new_case|pnew_case|tot_death|conf_death|prob_death|new_death|pnew_death|          created_at|consent_cases|consent_deaths|\n",
      "+---------------+-----+---------+----------+----------+--------+---------+---------+----------+----------+---------+----------+--------------------+-------------+--------------+\n",
      "|     01/25/2020|   OR|        0|      null|      null|       0|     null|        0|      null|      null|        0|      null|03/26/2020 04:22:...|        Agree|         Agree|\n",
      "|     07/23/2020|   KY|    25147|     23882|      1265|     607|       61|      684|       680|         4|        7|       0.0|07/24/2020 02:18:...|        Agree|         Agree|\n",
      "|     02/01/2021|   DC|    37008|      null|      null|     136|        0|      916|      null|      null|        3|       0.0|02/02/2021 02:51:...|         null|          null|\n",
      "|     04/11/2021|   NJ|   953490|    837052|    116438|    3387|      517|    24870|     22297|      2573|       11|       0.0|04/12/2021 01:39:...|        Agree|         Agree|\n",
      "|     01/10/2021|   AZ|   618546|    585091|     33455|   11201|      757|    10141|      9102|      1039|      105|       4.0|01/11/2021 03:01:...|        Agree|         Agree|\n",
      "+---------------+-----+---------+----------+----------+--------+---------+---------+----------+----------+---------+----------+--------------------+-------------+--------------+\n",
      "only showing top 5 rows\n",
      "\n"
     ]
    }
   ],
   "source": [
    "# The dates given in the first data set are not in the default format of PySpark SQL/Hive.\n",
    "# So we need to format the dates to make use of the timestamp/date calculations.\n",
    "# We can use to_date and to_timestamp functions respectively for submission date and created at columns\n",
    "#  based on how the dates are rendered in the columns.\n",
    "from pyspark.sql.types import StringType, DateType, FloatType, IntegerType\n",
    "df2 = df.withColumn(\"submission_date\" ,df[\"submission_date\"].cast(DateType()))\n",
    "df2 = df.withColumn(\"tot_cases\", df[\"tot_cases\"].cast(IntegerType()))   \n",
    "df2 = df.withColumn(\"conf_cases\", df[\"conf_cases\"].cast(FloatType()))    \n",
    "df2 = df.withColumn(\"prob_cases\", df[\"prob_cases\"].cast(FloatType()))     \n",
    "df2 = df.withColumn(\"new_case\", df[\"new_case\"].cast(FloatType()))\n",
    "df2 = df.withColumn(\"pnew_case\", df[\"pnew_case\"].cast(FloatType()))\n",
    "df2 = df.withColumn(\"tot_death\", df[\"tot_death\"].cast(FloatType()))\n",
    "df2 = df.withColumn(\"conf_death\", df[\"conf_death\"].cast(FloatType()))\n",
    "df2 = df.withColumn(\"prob_death\", df[\"prob_death\"].cast(FloatType()))\n",
    "df2 = df.withColumn(\"new_death\", df[\"new_death\"].cast(FloatType()))\n",
    "df2 = df.withColumn(\"pnew_death\", df[\"pnew_death\"].cast(FloatType()))\n",
    "\n",
    "\n",
    "df2.printSchema()\n",
    "df2.show(5)"
   ]
  },
  {
   "cell_type": "code",
   "execution_count": 44,
   "id": "60b39655",
   "metadata": {},
   "outputs": [
    {
     "name": "stdout",
     "output_type": "stream",
     "text": [
      "+---------------+-----+---------+----------+----------+--------+---------+---------+----------+----------+---------+----------+--------------------+-------------+--------------+\n",
      "|submission_date|state|tot_cases|conf_cases|prob_cases|new_case|pnew_case|tot_death|conf_death|prob_death|new_death|pnew_death|          created_at|consent_cases|consent_deaths|\n",
      "+---------------+-----+---------+----------+----------+--------+---------+---------+----------+----------+---------+----------+--------------------+-------------+--------------+\n",
      "|     01/25/2020|   OR|        0|      null|      null|       0|     null|        0|      null|      null|        0|      null|03/26/2020 04:22:...|        Agree|         Agree|\n",
      "|     07/23/2020|   KY|    25147|     23882|      1265|     607|       61|      684|       680|         4|        7|         0|07/24/2020 02:18:...|        Agree|         Agree|\n",
      "|     02/01/2021|   DC|    37008|      null|      null|     136|        0|      916|      null|      null|        3|         0|02/02/2021 02:51:...|         null|          null|\n",
      "|     04/11/2021|   NJ|   953490|    837052|    116438|    3387|      517|    24870|     22297|      2573|       11|         0|04/12/2021 01:39:...|        Agree|         Agree|\n",
      "|     01/10/2021|   AZ|   618546|    585091|     33455|   11201|      757|    10141|      9102|      1039|      105|         4|01/11/2021 03:01:...|        Agree|         Agree|\n",
      "+---------------+-----+---------+----------+----------+--------+---------+---------+----------+----------+---------+----------+--------------------+-------------+--------------+\n",
      "only showing top 5 rows\n",
      "\n",
      "root\n",
      " |-- submission_date: string (nullable = true)\n",
      " |-- state: string (nullable = true)\n",
      " |-- tot_cases: string (nullable = true)\n",
      " |-- conf_cases: string (nullable = true)\n",
      " |-- prob_cases: string (nullable = true)\n",
      " |-- new_case: string (nullable = true)\n",
      " |-- pnew_case: string (nullable = true)\n",
      " |-- tot_death: string (nullable = true)\n",
      " |-- conf_death: string (nullable = true)\n",
      " |-- prob_death: string (nullable = true)\n",
      " |-- new_death: string (nullable = true)\n",
      " |-- pnew_death: string (nullable = true)\n",
      " |-- created_at: string (nullable = true)\n",
      " |-- consent_cases: string (nullable = true)\n",
      " |-- consent_deaths: string (nullable = true)\n",
      "\n"
     ]
    }
   ],
   "source": [
    "from pyspark.sql.functions import to_date\n",
    "from pyspark.sql.functions import col\n",
    "from pyspark.sql.functions import to_timestamp\n",
    "\n",
    "df.select(to_timestamp(df.submission_date, 'MM-dd-yyyy HH:mm:ss').alias('dt')).collect()\n",
    "df.show(5)\n",
    "df.printSchema()"
   ]
  },
  {
   "cell_type": "code",
   "execution_count": 11,
   "id": "ceac67d0",
   "metadata": {},
   "outputs": [
    {
     "name": "stdout",
     "output_type": "stream",
     "text": [
      "+---------------+-----+---------+----------+----------+--------+---------+---------+----------+----------+---------+----------+--------------------+-------------+--------------+--------------------------------+\n",
      "|submission_date|state|tot_cases|conf_cases|prob_cases|new_case|pnew_case|tot_death|conf_death|prob_death|new_death|pnew_death|          created_at|consent_cases|consent_deaths|Sum_of_conf_cases_and_Prob_cases|\n",
      "+---------------+-----+---------+----------+----------+--------+---------+---------+----------+----------+---------+----------+--------------------+-------------+--------------+--------------------------------+\n",
      "|     07/23/2020|   KY|    25147|     23882|      1265|     607|       61|      684|       680|         4|        7|         0|07/24/2020 02:18:...|        Agree|         Agree|                         25147.0|\n",
      "|     04/11/2021|   NJ|   953490|    837052|    116438|    3387|      517|    24870|     22297|      2573|       11|         0|04/12/2021 01:39:...|        Agree|         Agree|                        953490.0|\n",
      "|     01/10/2021|   AZ|   618546|    585091|     33455|   11201|      757|    10141|      9102|      1039|      105|         4|01/11/2021 03:01:...|        Agree|         Agree|                        618546.0|\n",
      "|     07/30/2020|   ME|     3910|      3497|       413|      22|        2|      123|       122|         1|        2|         0|07/31/2020 02:35:...|        Agree|         Agree|                          3910.0|\n",
      "|     06/15/2020|   WI|    25480|     22932|      2548|     185|       11|      700|       694|         6|        2|         0|06/16/2020 02:10:...|        Agree|         Agree|                         25480.0|\n",
      "+---------------+-----+---------+----------+----------+--------+---------+---------+----------+----------+---------+----------+--------------------+-------------+--------------+--------------------------------+\n",
      "only showing top 5 rows\n",
      "\n",
      "root\n",
      " |-- submission_date: string (nullable = true)\n",
      " |-- state: string (nullable = true)\n",
      " |-- tot_cases: string (nullable = true)\n",
      " |-- conf_cases: string (nullable = true)\n",
      " |-- prob_cases: string (nullable = true)\n",
      " |-- new_case: string (nullable = true)\n",
      " |-- pnew_case: string (nullable = true)\n",
      " |-- tot_death: string (nullable = true)\n",
      " |-- conf_death: string (nullable = true)\n",
      " |-- prob_death: string (nullable = true)\n",
      " |-- new_death: string (nullable = true)\n",
      " |-- pnew_death: string (nullable = true)\n",
      " |-- created_at: string (nullable = true)\n",
      " |-- consent_cases: string (nullable = true)\n",
      " |-- consent_deaths: string (nullable = true)\n",
      " |-- Sum_of_conf_cases_and_Prob_cases: double (nullable = true)\n",
      "\n"
     ]
    }
   ],
   "source": [
    "# To clean up inalid records we can check whether the sum of confirmed cases and probable cases is equal to the total cases or not.\n",
    "# Filter for only those records where the sum of confirmed cases and probable cases is equal to the total cases.\n",
    "df2=df.withColumn(\"Sum_of_conf_cases_and_Prob_cases\",df.conf_cases+df.prob_cases)\n",
    "df2=df2.filter(df2.tot_cases == df2.Sum_of_conf_cases_and_Prob_cases)\n",
    "df2.show(5)\n",
    "df2.printSchema()"
   ]
  },
  {
   "cell_type": "code",
   "execution_count": 12,
   "id": "ebd0fdd5",
   "metadata": {},
   "outputs": [
    {
     "name": "stdout",
     "output_type": "stream",
     "text": [
      "root\n",
      " |-- submission_date: date (nullable = true)\n",
      " |-- tot_cases: integer (nullable = true)\n",
      " |-- conf_cases: float (nullable = true)\n",
      " |-- prob_cases: float (nullable = true)\n",
      " |-- conf_cases: float (nullable = true)\n",
      " |-- new_case: float (nullable = true)\n",
      " |-- pnew_case: float (nullable = true)\n",
      " |-- tot_death: float (nullable = true)\n",
      " |-- conf_death: float (nullable = true)\n",
      " |-- prob_death: float (nullable = true)\n",
      " |-- new_death: float (nullable = true)\n",
      " |-- pnew_death: float (nullable = true)\n",
      "\n"
     ]
    }
   ],
   "source": [
    "df2 = df.selectExpr(\"cast(submission_date as date) submission_date\", \"cast(tot_cases as int) tot_cases\", \"cast(conf_cases as float) conf_cases\", \"cast(prob_cases as float) prob_cases\", \"cast(conf_cases as float) conf_cases\", \"cast(new_case as float) new_case\", \"cast(pnew_case as float) pnew_case\",\"cast(tot_death as float) tot_death\",\"cast(conf_death as float) conf_death\",\"cast(prob_death as float) prob_death\", \"cast(new_death as float) new_death\", \"cast(pnew_death as float) pnew_death\" )\n",
    "df2.printSchema()\n"
   ]
  },
  {
   "cell_type": "code",
   "execution_count": 13,
   "id": "02bd6177",
   "metadata": {},
   "outputs": [
    {
     "name": "stdout",
     "output_type": "stream",
     "text": [
      "root\n",
      " |-- submission_date: date (nullable = true)\n",
      " |-- tot_cases: integer (nullable = true)\n",
      " |-- conf_cases: float (nullable = true)\n",
      " |-- prob_cases: float (nullable = true)\n",
      " |-- conf_cases: float (nullable = true)\n",
      " |-- new_case: float (nullable = true)\n",
      " |-- pnew_case: float (nullable = true)\n",
      " |-- tot_death: float (nullable = true)\n",
      " |-- conf_death: float (nullable = true)\n",
      " |-- prob_death: float (nullable = true)\n",
      " |-- new_death: float (nullable = true)\n",
      " |-- pnew_death: float (nullable = true)\n",
      "\n"
     ]
    }
   ],
   "source": [
    "df2 = df.selectExpr(\"cast(submission_date as date) submission_date\", \"cast(tot_cases as int) tot_cases\", \"cast(conf_cases as float) conf_cases\", \"cast(prob_cases as float) prob_cases\", \"cast(conf_cases as float) conf_cases\", \"cast(new_case as float) new_case\", \"cast(pnew_case as float) pnew_case\",\"cast(tot_death as float) tot_death\",\"cast(conf_death as float) conf_death\",\"cast(prob_death as float) prob_death\", \"cast(new_death as float) new_death\", \"cast(pnew_death as float) pnew_death\" )\n",
    "df2.printSchema()\n"
   ]
  },
  {
   "cell_type": "code",
   "execution_count": 14,
   "id": "b34a5b15",
   "metadata": {},
   "outputs": [],
   "source": [
    "# Show sample records and check if all columns are displayed correctly\n",
    "census=spark.read.option('header','true').csv('us-census-data.csv')"
   ]
  },
  {
   "cell_type": "code",
   "execution_count": 15,
   "id": "ec3c655a",
   "metadata": {},
   "outputs": [
    {
     "name": "stdout",
     "output_type": "stream",
     "text": [
      "root\n",
      " |-- SUMLEV: string (nullable = true)\n",
      " |-- REGION: string (nullable = true)\n",
      " |-- DIVISION: string (nullable = true)\n",
      " |-- STATE: string (nullable = true)\n",
      " |-- COUNTY: string (nullable = true)\n",
      " |-- STNAME: string (nullable = true)\n",
      " |-- CTYNAME: string (nullable = true)\n",
      " |-- CENSUS2010POP: string (nullable = true)\n",
      " |-- ESTIMATESBASE2010: string (nullable = true)\n",
      " |-- POPESTIMATE2010: string (nullable = true)\n",
      " |-- POPESTIMATE2011: string (nullable = true)\n",
      " |-- POPESTIMATE2012: string (nullable = true)\n",
      " |-- POPESTIMATE2013: string (nullable = true)\n",
      " |-- POPESTIMATE2014: string (nullable = true)\n",
      " |-- POPESTIMATE2015: string (nullable = true)\n",
      " |-- POPESTIMATE2016: string (nullable = true)\n",
      " |-- POPESTIMATE2017: string (nullable = true)\n",
      " |-- POPESTIMATE2018: string (nullable = true)\n",
      " |-- POPESTIMATE2019: string (nullable = true)\n",
      " |-- NPOPCHG_2010: string (nullable = true)\n",
      " |-- NPOPCHG_2011: string (nullable = true)\n",
      " |-- NPOPCHG_2012: string (nullable = true)\n",
      " |-- NPOPCHG_2013: string (nullable = true)\n",
      " |-- NPOPCHG_2014: string (nullable = true)\n",
      " |-- NPOPCHG_2015: string (nullable = true)\n",
      " |-- NPOPCHG_2016: string (nullable = true)\n",
      " |-- NPOPCHG_2017: string (nullable = true)\n",
      " |-- NPOPCHG_2018: string (nullable = true)\n",
      " |-- NPOPCHG_2019: string (nullable = true)\n",
      " |-- BIRTHS2010: string (nullable = true)\n",
      " |-- BIRTHS2011: string (nullable = true)\n",
      " |-- BIRTHS2012: string (nullable = true)\n",
      " |-- BIRTHS2013: string (nullable = true)\n",
      " |-- BIRTHS2014: string (nullable = true)\n",
      " |-- BIRTHS2015: string (nullable = true)\n",
      " |-- BIRTHS2016: string (nullable = true)\n",
      " |-- BIRTHS2017: string (nullable = true)\n",
      " |-- BIRTHS2018: string (nullable = true)\n",
      " |-- BIRTHS2019: string (nullable = true)\n",
      " |-- DEATHS2010: string (nullable = true)\n",
      " |-- DEATHS2011: string (nullable = true)\n",
      " |-- DEATHS2012: string (nullable = true)\n",
      " |-- DEATHS2013: string (nullable = true)\n",
      " |-- DEATHS2014: string (nullable = true)\n",
      " |-- DEATHS2015: string (nullable = true)\n",
      " |-- DEATHS2016: string (nullable = true)\n",
      " |-- DEATHS2017: string (nullable = true)\n",
      " |-- DEATHS2018: string (nullable = true)\n",
      " |-- DEATHS2019: string (nullable = true)\n",
      " |-- NATURALINC2010: string (nullable = true)\n",
      " |-- NATURALINC2011: string (nullable = true)\n",
      " |-- NATURALINC2012: string (nullable = true)\n",
      " |-- NATURALINC2013: string (nullable = true)\n",
      " |-- NATURALINC2014: string (nullable = true)\n",
      " |-- NATURALINC2015: string (nullable = true)\n",
      " |-- NATURALINC2016: string (nullable = true)\n",
      " |-- NATURALINC2017: string (nullable = true)\n",
      " |-- NATURALINC2018: string (nullable = true)\n",
      " |-- NATURALINC2019: string (nullable = true)\n",
      " |-- INTERNATIONALMIG2010: string (nullable = true)\n",
      " |-- INTERNATIONALMIG2011: string (nullable = true)\n",
      " |-- INTERNATIONALMIG2012: string (nullable = true)\n",
      " |-- INTERNATIONALMIG2013: string (nullable = true)\n",
      " |-- INTERNATIONALMIG2014: string (nullable = true)\n",
      " |-- INTERNATIONALMIG2015: string (nullable = true)\n",
      " |-- INTERNATIONALMIG2016: string (nullable = true)\n",
      " |-- INTERNATIONALMIG2017: string (nullable = true)\n",
      " |-- INTERNATIONALMIG2018: string (nullable = true)\n",
      " |-- INTERNATIONALMIG2019: string (nullable = true)\n",
      " |-- DOMESTICMIG2010: string (nullable = true)\n",
      " |-- DOMESTICMIG2011: string (nullable = true)\n",
      " |-- DOMESTICMIG2012: string (nullable = true)\n",
      " |-- DOMESTICMIG2013: string (nullable = true)\n",
      " |-- DOMESTICMIG2014: string (nullable = true)\n",
      " |-- DOMESTICMIG2015: string (nullable = true)\n",
      " |-- DOMESTICMIG2016: string (nullable = true)\n",
      " |-- DOMESTICMIG2017: string (nullable = true)\n",
      " |-- DOMESTICMIG2018: string (nullable = true)\n",
      " |-- DOMESTICMIG2019: string (nullable = true)\n",
      " |-- NETMIG2010: string (nullable = true)\n",
      " |-- NETMIG2011: string (nullable = true)\n",
      " |-- NETMIG2012: string (nullable = true)\n",
      " |-- NETMIG2013: string (nullable = true)\n",
      " |-- NETMIG2014: string (nullable = true)\n",
      " |-- NETMIG2015: string (nullable = true)\n",
      " |-- NETMIG2016: string (nullable = true)\n",
      " |-- NETMIG2017: string (nullable = true)\n",
      " |-- NETMIG2018: string (nullable = true)\n",
      " |-- NETMIG2019: string (nullable = true)\n",
      " |-- RESIDUAL2010: string (nullable = true)\n",
      " |-- RESIDUAL2011: string (nullable = true)\n",
      " |-- RESIDUAL2012: string (nullable = true)\n",
      " |-- RESIDUAL2013: string (nullable = true)\n",
      " |-- RESIDUAL2014: string (nullable = true)\n",
      " |-- RESIDUAL2015: string (nullable = true)\n",
      " |-- RESIDUAL2016: string (nullable = true)\n",
      " |-- RESIDUAL2017: string (nullable = true)\n",
      " |-- RESIDUAL2018: string (nullable = true)\n",
      " |-- RESIDUAL2019: string (nullable = true)\n",
      " |-- GQESTIMATESBASE2010: string (nullable = true)\n",
      " |-- GQESTIMATES2010: string (nullable = true)\n",
      " |-- GQESTIMATES2011: string (nullable = true)\n",
      " |-- GQESTIMATES2012: string (nullable = true)\n",
      " |-- GQESTIMATES2013: string (nullable = true)\n",
      " |-- GQESTIMATES2014: string (nullable = true)\n",
      " |-- GQESTIMATES2015: string (nullable = true)\n",
      " |-- GQESTIMATES2016: string (nullable = true)\n",
      " |-- GQESTIMATES2017: string (nullable = true)\n",
      " |-- GQESTIMATES2018: string (nullable = true)\n",
      " |-- GQESTIMATES2019: string (nullable = true)\n",
      " |-- RBIRTH2011: string (nullable = true)\n",
      " |-- RBIRTH2012: string (nullable = true)\n",
      " |-- RBIRTH2013: string (nullable = true)\n",
      " |-- RBIRTH2014: string (nullable = true)\n",
      " |-- RBIRTH2015: string (nullable = true)\n",
      " |-- RBIRTH2016: string (nullable = true)\n",
      " |-- RBIRTH2017: string (nullable = true)\n",
      " |-- RBIRTH2018: string (nullable = true)\n",
      " |-- RBIRTH2019: string (nullable = true)\n",
      " |-- RDEATH2011: string (nullable = true)\n",
      " |-- RDEATH2012: string (nullable = true)\n",
      " |-- RDEATH2013: string (nullable = true)\n",
      " |-- RDEATH2014: string (nullable = true)\n",
      " |-- RDEATH2015: string (nullable = true)\n",
      " |-- RDEATH2016: string (nullable = true)\n",
      " |-- RDEATH2017: string (nullable = true)\n",
      " |-- RDEATH2018: string (nullable = true)\n",
      " |-- RDEATH2019: string (nullable = true)\n",
      " |-- RNATURALINC2011: string (nullable = true)\n",
      " |-- RNATURALINC2012: string (nullable = true)\n",
      " |-- RNATURALINC2013: string (nullable = true)\n",
      " |-- RNATURALINC2014: string (nullable = true)\n",
      " |-- RNATURALINC2015: string (nullable = true)\n",
      " |-- RNATURALINC2016: string (nullable = true)\n",
      " |-- RNATURALINC2017: string (nullable = true)\n",
      " |-- RNATURALINC2018: string (nullable = true)\n",
      " |-- RNATURALINC2019: string (nullable = true)\n",
      " |-- RINTERNATIONALMIG2011: string (nullable = true)\n",
      " |-- RINTERNATIONALMIG2012: string (nullable = true)\n",
      " |-- RINTERNATIONALMIG2013: string (nullable = true)\n",
      " |-- RINTERNATIONALMIG2014: string (nullable = true)\n",
      " |-- RINTERNATIONALMIG2015: string (nullable = true)\n",
      " |-- RINTERNATIONALMIG2016: string (nullable = true)\n",
      " |-- RINTERNATIONALMIG2017: string (nullable = true)\n",
      " |-- RINTERNATIONALMIG2018: string (nullable = true)\n",
      " |-- RINTERNATIONALMIG2019: string (nullable = true)\n",
      " |-- RDOMESTICMIG2011: string (nullable = true)\n",
      " |-- RDOMESTICMIG2012: string (nullable = true)\n",
      " |-- RDOMESTICMIG2013: string (nullable = true)\n",
      " |-- RDOMESTICMIG2014: string (nullable = true)\n",
      " |-- RDOMESTICMIG2015: string (nullable = true)\n",
      " |-- RDOMESTICMIG2016: string (nullable = true)\n",
      " |-- RDOMESTICMIG2017: string (nullable = true)\n",
      " |-- RDOMESTICMIG2018: string (nullable = true)\n",
      " |-- RDOMESTICMIG2019: string (nullable = true)\n",
      " |-- RNETMIG2011: string (nullable = true)\n",
      " |-- RNETMIG2012: string (nullable = true)\n",
      " |-- RNETMIG2013: string (nullable = true)\n",
      " |-- RNETMIG2014: string (nullable = true)\n",
      " |-- RNETMIG2015: string (nullable = true)\n",
      " |-- RNETMIG2016: string (nullable = true)\n",
      " |-- RNETMIG2017: string (nullable = true)\n",
      " |-- RNETMIG2018: string (nullable = true)\n",
      " |-- RNETMIG2019: string (nullable = true)\n",
      "\n"
     ]
    }
   ],
   "source": [
    "# Take a look at the dataframe schema and check if data types of all columns are correctly inferred\n",
    "census.printSchema()"
   ]
  },
  {
   "cell_type": "code",
   "execution_count": 16,
   "id": "1286f3ab",
   "metadata": {},
   "outputs": [],
   "source": [
    "# Take a look at the dataframe description and check descriptions or stats of all numeric columns are appripriate\n",
    "# Note - We can use <df>.describe.show() function for this.\n",
    "from pyspark.sql.functions import col\n",
    "columns_to_cast = [\"ESTIMATESBASE2010\", \"POPESTIMATE2010\", \"POPESTIMATE2011\",\"POPESTIMATE2012\",\"POPESTIMATE2013\",\"POPESTIMATE2014\",\"POPESTIMATE2015\",\"POPESTIMATE2016\",\"POPESTIMATE2017\",\"POPESTIMATE2018\",\"POPESTIMATE2019\",\"NPOPCHG_2010\",\"NPOPCHG_2011\",\"NPOPCHG_2012\",\"NPOPCHG_2013\",\"NPOPCHG_2014\",\"NPOPCHG_2015\",\"NPOPCHG_2016\",\"NPOPCHG_2017\",\"NPOPCHG_2018\",\"NPOPCHG_2019\"]\n",
    "df_temp = (\n",
    "   census\n",
    "   .select(\n",
    "     *(c for c in census.columns if c not in columns_to_cast),\n",
    "     *(col(c).cast(\"int\").alias(c) for c in columns_to_cast)\n",
    "   )\n",
    ")"
   ]
  },
  {
   "cell_type": "code",
   "execution_count": 17,
   "id": "9f3cab02",
   "metadata": {},
   "outputs": [
    {
     "name": "stdout",
     "output_type": "stream",
     "text": [
      "+------+------+--------+-----+------+-------+--------------+-------------+----------+----------+----------+----------+----------+----------+----------+----------+----------+----------+----------+----------+----------+----------+----------+----------+----------+----------+----------+----------+--------------+--------------+--------------+--------------+--------------+--------------+--------------+--------------+--------------+--------------+--------------------+--------------------+--------------------+--------------------+--------------------+--------------------+--------------------+--------------------+--------------------+--------------------+---------------+---------------+---------------+---------------+---------------+---------------+---------------+---------------+---------------+---------------+----------+----------+----------+----------+----------+----------+----------+----------+----------+----------+------------+------------+------------+------------+------------+------------+------------+------------+------------+------------+-------------------+---------------+---------------+---------------+---------------+---------------+---------------+---------------+---------------+---------------+---------------+------------+------------+------------+------------+------------+------------+------------+------------+------------+------------+------------+------------+------------+------------+------------+------------+------------+------------+---------------+---------------+---------------+---------------+---------------+---------------+---------------+---------------+---------------+---------------------+---------------------+---------------------+---------------------+---------------------+---------------------+---------------------+---------------------+---------------------+----------------+----------------+----------------+----------------+----------------+----------------+----------------+----------------+----------------+------------+------------+------------+------------+------------+------------+------------+------------+------------+-----------------+---------------+---------------+---------------+---------------+---------------+---------------+---------------+---------------+---------------+---------------+------------+------------+------------+------------+------------+------------+------------+------------+------------+------------+\n",
      "|SUMLEV|REGION|DIVISION|STATE|COUNTY| STNAME|       CTYNAME|CENSUS2010POP|BIRTHS2010|BIRTHS2011|BIRTHS2012|BIRTHS2013|BIRTHS2014|BIRTHS2015|BIRTHS2016|BIRTHS2017|BIRTHS2018|BIRTHS2019|DEATHS2010|DEATHS2011|DEATHS2012|DEATHS2013|DEATHS2014|DEATHS2015|DEATHS2016|DEATHS2017|DEATHS2018|DEATHS2019|NATURALINC2010|NATURALINC2011|NATURALINC2012|NATURALINC2013|NATURALINC2014|NATURALINC2015|NATURALINC2016|NATURALINC2017|NATURALINC2018|NATURALINC2019|INTERNATIONALMIG2010|INTERNATIONALMIG2011|INTERNATIONALMIG2012|INTERNATIONALMIG2013|INTERNATIONALMIG2014|INTERNATIONALMIG2015|INTERNATIONALMIG2016|INTERNATIONALMIG2017|INTERNATIONALMIG2018|INTERNATIONALMIG2019|DOMESTICMIG2010|DOMESTICMIG2011|DOMESTICMIG2012|DOMESTICMIG2013|DOMESTICMIG2014|DOMESTICMIG2015|DOMESTICMIG2016|DOMESTICMIG2017|DOMESTICMIG2018|DOMESTICMIG2019|NETMIG2010|NETMIG2011|NETMIG2012|NETMIG2013|NETMIG2014|NETMIG2015|NETMIG2016|NETMIG2017|NETMIG2018|NETMIG2019|RESIDUAL2010|RESIDUAL2011|RESIDUAL2012|RESIDUAL2013|RESIDUAL2014|RESIDUAL2015|RESIDUAL2016|RESIDUAL2017|RESIDUAL2018|RESIDUAL2019|GQESTIMATESBASE2010|GQESTIMATES2010|GQESTIMATES2011|GQESTIMATES2012|GQESTIMATES2013|GQESTIMATES2014|GQESTIMATES2015|GQESTIMATES2016|GQESTIMATES2017|GQESTIMATES2018|GQESTIMATES2019|  RBIRTH2011|  RBIRTH2012|  RBIRTH2013|  RBIRTH2014|  RBIRTH2015|  RBIRTH2016|  RBIRTH2017|  RBIRTH2018|  RBIRTH2019|  RDEATH2011|  RDEATH2012|  RDEATH2013|  RDEATH2014|  RDEATH2015|  RDEATH2016|  RDEATH2017|  RDEATH2018|  RDEATH2019|RNATURALINC2011|RNATURALINC2012|RNATURALINC2013|RNATURALINC2014|RNATURALINC2015|RNATURALINC2016|RNATURALINC2017|RNATURALINC2018|RNATURALINC2019|RINTERNATIONALMIG2011|RINTERNATIONALMIG2012|RINTERNATIONALMIG2013|RINTERNATIONALMIG2014|RINTERNATIONALMIG2015|RINTERNATIONALMIG2016|RINTERNATIONALMIG2017|RINTERNATIONALMIG2018|RINTERNATIONALMIG2019|RDOMESTICMIG2011|RDOMESTICMIG2012|RDOMESTICMIG2013|RDOMESTICMIG2014|RDOMESTICMIG2015|RDOMESTICMIG2016|RDOMESTICMIG2017|RDOMESTICMIG2018|RDOMESTICMIG2019| RNETMIG2011| RNETMIG2012| RNETMIG2013| RNETMIG2014| RNETMIG2015| RNETMIG2016| RNETMIG2017| RNETMIG2018| RNETMIG2019|ESTIMATESBASE2010|POPESTIMATE2010|POPESTIMATE2011|POPESTIMATE2012|POPESTIMATE2013|POPESTIMATE2014|POPESTIMATE2015|POPESTIMATE2016|POPESTIMATE2017|POPESTIMATE2018|POPESTIMATE2019|NPOPCHG_2010|NPOPCHG_2011|NPOPCHG_2012|NPOPCHG_2013|NPOPCHG_2014|NPOPCHG_2015|NPOPCHG_2016|NPOPCHG_2017|NPOPCHG_2018|NPOPCHG_2019|\n",
      "+------+------+--------+-----+------+-------+--------------+-------------+----------+----------+----------+----------+----------+----------+----------+----------+----------+----------+----------+----------+----------+----------+----------+----------+----------+----------+----------+----------+--------------+--------------+--------------+--------------+--------------+--------------+--------------+--------------+--------------+--------------+--------------------+--------------------+--------------------+--------------------+--------------------+--------------------+--------------------+--------------------+--------------------+--------------------+---------------+---------------+---------------+---------------+---------------+---------------+---------------+---------------+---------------+---------------+----------+----------+----------+----------+----------+----------+----------+----------+----------+----------+------------+------------+------------+------------+------------+------------+------------+------------+------------+------------+-------------------+---------------+---------------+---------------+---------------+---------------+---------------+---------------+---------------+---------------+---------------+------------+------------+------------+------------+------------+------------+------------+------------+------------+------------+------------+------------+------------+------------+------------+------------+------------+------------+---------------+---------------+---------------+---------------+---------------+---------------+---------------+---------------+---------------+---------------------+---------------------+---------------------+---------------------+---------------------+---------------------+---------------------+---------------------+---------------------+----------------+----------------+----------------+----------------+----------------+----------------+----------------+----------------+----------------+------------+------------+------------+------------+------------+------------+------------+------------+------------+-----------------+---------------+---------------+---------------+---------------+---------------+---------------+---------------+---------------+---------------+---------------+------------+------------+------------+------------+------------+------------+------------+------------+------------+------------+\n",
      "|   040|     3|       6|   01|   000|Alabama|       Alabama|      4779736|     14226|     59690|     59067|     57929|     58903|     59647|     59389|     58961|     58271|     57313|     11075|     48833|     48366|     50851|     49712|     51876|     51710|     53195|     53665|     53879|          3151|         10857|         10701|          7078|          9191|          7771|          7679|          5766|          4606|          3434|                 924|                4665|                5817|                5046|                3684|                4580|                5777|                3011|                3379|                2772|           1244|          -1893|           -114|           2297|           -959|          -1544|          -2157|           2298|           5279|           9387|      2168|      2772|      5703|      7343|      2725|      3036|      3620|      5309|      8658|     12159|          -7|           3|         115|          72|        -198|        -259|        -121|        -114|         -69|         -89|             116185|         116246|         115180|         115793|         116932|         119032|         119972|         118619|         117094|         116576|         116625|12.455519356|12.286865772|12.011401179|12.180258647|12.305777115|12.225150764|12.109454384|11.938128082|11.707442426|10.189987883|10.060889328|10.543799502|10.279697432|10.702541513|10.644438296|10.925228982|10.994485138|11.005972301|   2.2655314734|   2.2259764441|    1.467601677|   1.9005612146|   1.6032356022|   1.5807124672|   1.1842254029|   0.9436429432|   0.7014701253|         0.9734461014|         1.2100275652|         1.0462726847|         0.7617960521|          0.944900149|         1.1891881655|         0.6184014374|         0.6922643302|         0.5662420464|    -0.395012534|    -0.023713794|    0.4762759328|    -0.198306844|    -0.318542758|     -0.44401573|    0.4719649629|    1.0815221661|    1.9175014754|0.5784335677|1.1863137707|1.5225486174|0.5634892079|0.6263573914|0.7451724354|1.0903664003|1.7737864964|2.4837435218|          4780125|        4785437|        4799069|        4815588|        4830081|        4841799|        4852347|        4863525|        4874486|        4887681|        4903185|        5312|       13632|       16519|       14493|       11718|       10548|       11178|       10961|       13195|       15504|\n",
      "|   050|     3|       6|   01|   001|Alabama|Autauga County|        54571|       150|       638|       615|       571|       640|       651|       666|       676|       631|       624|       157|       514|       560|       582|       573|       584|       547|       573|       518|       541|            -7|           124|            55|           -11|            67|            67|           119|           103|           113|            83|                  25|                   4|                 -14|                  12|                   7|                  13|                  -3|                 -12|                  -7|                 -16|            147|            327|           -329|           -226|            101|           -107|            266|             59|             37|            270|       172|       331|      -343|      -214|       108|       -94|       263|        47|        30|       254|          11|          -1|          15|          -2|          -9|          -2|          -3|          -3|           0|          -1|                455|            455|            455|            455|            455|            455|            455|            455|            455|            455|            455|        11.6|11.163449234| 10.41201302|11.676701332| 11.86256913|12.097323513|12.220585178|11.377261704|11.202671406|9.3454545455|10.165091985|10.612594706|10.454296661|10.641690279|9.9357897318|10.358572939|9.3398123022|9.7125724852|   2.2545454545|   0.9983572485|   -0.200581687|   1.2224046707|   1.2208788506|   2.1615337808|   1.8620122387|   2.0374494018|    1.490098921|         0.0727272727|           -0.2541273|         0.2188163857|         0.1277139208|         0.2368869412|         -0.054492448|         -0.216933465|          -0.12621368|         -0.287247985|    5.9454545455|    -5.971991541|    -4.121041931|    1.8427294289|    -1.949761746|    4.8316637453|    1.0665895348|    0.6671294502|    4.8473097431|6.0181818182|-6.226118841|-3.902225545|1.9704433498|-1.712874805| 4.777171297|0.8496560701|0.5409157704|4.5600617583|            54597|          54773|          55227|          54954|          54727|          54893|          54864|          55243|          55390|          55533|          55869|         176|         454|        -273|        -227|         166|         -29|         379|         147|         143|         336|\n",
      "|   050|     3|       6|   01|   003|Alabama|Baldwin County|       182265|       516|      2189|      2093|      2160|      2212|      2257|      2300|      2300|      2310|      2304|       533|      1829|      1885|      1900|      1987|      2098|      2022|      2099|      2312|      2326|           -17|           360|           208|           260|           225|           159|           278|           201|            -2|           -22|                  36|                 177|                 239|                 204|                 113|                 131|                 180|                  86|                  97|                  80|            782|           2899|           3055|           4176|           3864|           3433|           4188|           4619|           5224|           5297|       818|      3076|      3294|      4380|      3977|      3564|      4368|      4705|      5321|      5377|          46|          10|          85|         100|          96|          33|          16|          14|          15|          24|               2307|           2307|           2263|           2240|           2296|           2331|           2337|           2275|           2193|           2170|           2170|11.842995104|11.112202451|11.219904942|11.226488829|11.225448993|11.204754713| 10.94920047|10.734799338|10.446871266|9.8953120351|10.007884195| 9.869360829|10.084553935|10.434644212|9.8504408827|9.9923355597|10.744093537|10.546624377|   1.9476830687|    1.104318256|   1.3505441134|   1.1419348945|   0.7908047806|   1.3543138306|   0.9568649107|   -0.009294199|   -0.099753111|         0.9576108421|           1.26890415|          1.059657689|         0.5735050803|         0.6515435614|         0.8768938471|         0.4094048872|         0.4507686302|         0.3627385856|    15.684258934|    16.219674385|    21.691816222|    19.610828588|    17.074420201|    20.402396843|    21.988850858|    24.276446642|    24.017828601|16.641869776|17.488578535|22.751473911|20.184333668|17.725963762| 21.27929069|22.398255745|24.727215272|24.380567187|           182265|         183112|         186558|         190145|         194885|         199183|         202939|         207601|         212521|         217855|         223234|         847|        3446|        3587|        4740|        4298|        3756|        4662|        4920|        5334|        5379|\n",
      "|   050|     3|       6|   01|   005|Alabama|Barbour County|        27457|        71|       331|       300|       282|       264|       271|       276|       280|       263|       256|       131|       323|       286|       295|       308|       332|       280|       295|       329|       312|           -60|             8|            14|           -13|           -44|           -61|            -4|           -15|           -66|           -56|                  -1|                  -5|                 -12|                 -10|                   4|                  13|                  17|                  12|                  12|                  13|            -69|             13|           -176|           -210|           -142|           -430|           -492|           -649|           -231|           -141|       -70|         8|      -188|      -220|      -138|      -417|      -475|      -637|      -219|      -128|           2|          -2|           2|           1|           0|           6|           2|           3|           0|          -2|               3193|           3193|           3380|           3390|           3388|           3352|           3193|           2975|           2817|           2813|           2812|12.109460745|11.007154651|10.423982553|9.8338672428|10.219088201| 10.59724702|10.988364107|10.513901937|10.331328948|11.816784956|10.493487433|10.904520756|11.472845117|12.519325766| 10.75083031| 11.57702647|13.152371624|12.591307155|   0.2926757884|    0.513667217|   -0.480538203|   -1.638977874|   -2.300237566|    -0.15358329|   -0.588662363|   -2.638469688|   -2.259978207|         -0.182922368|         -0.440286186|         -0.369644771|         0.1489979885|         0.4902145631|         0.6527289831|         0.4709298903|         0.4797217614|         0.5246377981|    0.4755981561|    -6.457530728|    -7.762540199|    -5.289428593|     -16.2147894|    -18.89074469|    -25.46945823|    -9.234643907|    -5.690302272|0.2926757884|-6.897816914| -8.13218497|-5.140430604|-15.72457483| -18.2380157|-24.99852834|-8.754922145|-5.165664474|            27455|          27327|          27341|          27169|          26937|          26755|          26283|          25806|          25157|          24872|          24686|        -128|          14|        -172|        -232|        -182|        -472|        -477|        -649|        -285|        -186|\n",
      "|   050|     3|       6|   01|   007|Alabama|   Bibb County|        22915|        44|       264|       246|       258|       253|       251|       276|       291|       232|       240|        32|       276|       236|       275|       247|       265|       241|       252|       263|       252|            12|           -12|            10|           -17|             6|           -14|            35|            39|           -31|           -12|                   0|                  10|                  19|                  20|                  14|                  13|                  14|                  10|                  10|                  10|            -59|           -124|           -105|           -151|             16|             17|            -30|            -83|           -164|             31|       -59|      -114|       -86|      -131|        30|        30|       -16|       -73|      -154|        41|           2|           1|          -2|           2|          -4|          -3|           1|          -2|           2|          -2|               2224|           2224|           2224|           2228|           2224|           2245|           2255|           2204|           2150|           2146|           2148|11.575139757|10.834140756|11.418960786|11.225983938|11.126133115|12.225372077|12.894363701|10.330164526|10.723621009|12.101282473| 10.39372853|12.171372931|10.959755069|11.746714245|10.675053154|11.166253102|11.710488234| 11.25980206|   -0.526142716|   0.4404122258|   -0.752412145|   0.2662288681|    -0.62058113|   1.5503189227|   1.7281105991|   -1.380323708|    -0.53618105|         0.4384522635|         0.8367832291|         0.8851907586|         0.6212006922|         0.5762539063|         0.6201275691|         0.4431052818|         0.4452657123|         0.4468175421|    -5.436808068|    -4.624328371|    -6.683190227|    0.7099436482|    0.7535628006|    -1.328844791|    -3.677773839|    -7.302357682|    1.3851343804|-4.998355804|-3.787545142|-5.797999469|1.3311443404|1.3298167069|-0.708717222|-3.234668557| -6.85709197|1.8319519224|            22915|          22870|          22745|          22667|          22521|          22553|          22566|          22586|          22550|          22367|          22394|         -45|        -125|         -78|        -146|          32|          13|          20|         -36|        -183|          27|\n",
      "+------+------+--------+-----+------+-------+--------------+-------------+----------+----------+----------+----------+----------+----------+----------+----------+----------+----------+----------+----------+----------+----------+----------+----------+----------+----------+----------+----------+--------------+--------------+--------------+--------------+--------------+--------------+--------------+--------------+--------------+--------------+--------------------+--------------------+--------------------+--------------------+--------------------+--------------------+--------------------+--------------------+--------------------+--------------------+---------------+---------------+---------------+---------------+---------------+---------------+---------------+---------------+---------------+---------------+----------+----------+----------+----------+----------+----------+----------+----------+----------+----------+------------+------------+------------+------------+------------+------------+------------+------------+------------+------------+-------------------+---------------+---------------+---------------+---------------+---------------+---------------+---------------+---------------+---------------+---------------+------------+------------+------------+------------+------------+------------+------------+------------+------------+------------+------------+------------+------------+------------+------------+------------+------------+------------+---------------+---------------+---------------+---------------+---------------+---------------+---------------+---------------+---------------+---------------------+---------------------+---------------------+---------------------+---------------------+---------------------+---------------------+---------------------+---------------------+----------------+----------------+----------------+----------------+----------------+----------------+----------------+----------------+----------------+------------+------------+------------+------------+------------+------------+------------+------------+------------+-----------------+---------------+---------------+---------------+---------------+---------------+---------------+---------------+---------------+---------------+---------------+------------+------------+------------+------------+------------+------------+------------+------------+------------+------------+\n",
      "only showing top 5 rows\n",
      "\n"
     ]
    }
   ],
   "source": [
    "\n",
    "df_temp.show(5)"
   ]
  },
  {
   "cell_type": "code",
   "execution_count": 18,
   "id": "7c8561cf",
   "metadata": {},
   "outputs": [
    {
     "name": "stdout",
     "output_type": "stream",
     "text": [
      "+--------------------+---------------+\n",
      "|              STNAME|POPESTIMATE2019|\n",
      "+--------------------+---------------+\n",
      "|                Utah|        6411916|\n",
      "|              Hawaii|        2831744|\n",
      "|           Minnesota|       11279264|\n",
      "|                Ohio|       23378200|\n",
      "|            Arkansas|        6035608|\n",
      "|              Oregon|        8435474|\n",
      "|               Texas|       57991762|\n",
      "|        North Dakota|        1524124|\n",
      "|        Pennsylvania|       25603978|\n",
      "|         Connecticut|        7130574|\n",
      "|            Nebraska|        3868816|\n",
      "|             Vermont|        1247978|\n",
      "|              Nevada|        6160312|\n",
      "|          Washington|       15229786|\n",
      "|            Illinois|       25343642|\n",
      "|            Oklahoma|        7913942|\n",
      "|District of Columbia|        1411498|\n",
      "|            Delaware|        1947528|\n",
      "|              Alaska|        1463090|\n",
      "|          New Mexico|        4193658|\n",
      "+--------------------+---------------+\n",
      "only showing top 20 rows\n",
      "\n",
      "root\n",
      " |-- STNAME: string (nullable = true)\n",
      " |-- POPESTIMATE2019: long (nullable = true)\n",
      "\n"
     ]
    }
   ],
   "source": [
    "state_est = df_temp.select(col(\"POPESTIMATE2019\"),col(\"STATE\"),col(\"STNAME\"))\n",
    "state_est=state_est.groupby('STNAME').sum('POPESTIMATE2019')\n",
    "state_est=state_est.withColumnRenamed(\"sum(POPESTIMATE2019)\",\"POPESTIMATE2019\")\n",
    "state_est.show()\n",
    "state_est.printSchema()"
   ]
  },
  {
   "cell_type": "code",
   "execution_count": 19,
   "id": "6c0f40aa",
   "metadata": {},
   "outputs": [
    {
     "name": "stdout",
     "output_type": "stream",
     "text": [
      "+--------------------+---------------+\n",
      "|              STNAME|POPESTIMATE2019|\n",
      "+--------------------+---------------+\n",
      "|                UTAH|        6411916|\n",
      "|              HAWAII|        2831744|\n",
      "|           MINNESOTA|       11279264|\n",
      "|                OHIO|       23378200|\n",
      "|            ARKANSAS|        6035608|\n",
      "|              OREGON|        8435474|\n",
      "|               TEXAS|       57991762|\n",
      "|        NORTH DAKOTA|        1524124|\n",
      "|        PENNSYLVANIA|       25603978|\n",
      "|         CONNECTICUT|        7130574|\n",
      "|            NEBRASKA|        3868816|\n",
      "|             VERMONT|        1247978|\n",
      "|              NEVADA|        6160312|\n",
      "|          WASHINGTON|       15229786|\n",
      "|            ILLINOIS|       25343642|\n",
      "|            OKLAHOMA|        7913942|\n",
      "|DISTRICT OF COLUMBIA|        1411498|\n",
      "|            DELAWARE|        1947528|\n",
      "|              ALASKA|        1463090|\n",
      "|          NEW MEXICO|        4193658|\n",
      "+--------------------+---------------+\n",
      "only showing top 20 rows\n",
      "\n",
      "root\n",
      " |-- STNAME: string (nullable = true)\n",
      " |-- POPESTIMATE2019: long (nullable = true)\n",
      "\n"
     ]
    }
   ],
   "source": [
    "# Take the census data and extract the state-wise estimated population of 2019.\n",
    "# If you check the records manually you will notice that for the whole state population estimate of 2019\n",
    "#   the county will be mentioned as 0\n",
    "# Or you can use the other criteria like to get this data\n",
    "\n",
    "c = df_temp.select(col(\"POPESTIMATE2019\"),col(\"STATE\"),col(\"STNAME\"))\n",
    "state_est=state_est.groupby('STNAME').sum('POPESTIMATE2019')\n",
    "\n",
    "state_est=state_est.withColumnRenamed(\"sum(POPESTIMATE2019)\",\"POPESTIMATE2019\")\n",
    "import pyspark.sql.functions as func\n",
    "state_est = state_est.withColumn(\"STNAME\",func.upper(func.col(\"STNAME\")))\n",
    "\n",
    "state_est.show()\n",
    "state_est.printSchema()"
   ]
  },
  {
   "cell_type": "code",
   "execution_count": 20,
   "id": "1780c02c",
   "metadata": {
    "scrolled": true
   },
   "outputs": [
    {
     "name": "stdout",
     "output_type": "stream",
     "text": [
      "+--------------------+------+\n",
      "|              STNAME|STCODE|\n",
      "+--------------------+------+\n",
      "|             ALABAMA|    AL|\n",
      "|              ALASKA|    AK|\n",
      "|      AMERICAN SAMOA|    AS|\n",
      "|             ARIZONA|    AZ|\n",
      "|            ARKANSAS|    AR|\n",
      "|          CALIFORNIA|    CA|\n",
      "|            COLORADO|    CO|\n",
      "|         CONNECTICUT|    CT|\n",
      "|            DELAWARE|    DE|\n",
      "|DISTRICT OF COLUMBIA|    DC|\n",
      "|             FLORIDA|    FL|\n",
      "|             GEORGIA|    GA|\n",
      "|                GUAM|    GU|\n",
      "|              HAWAII|    HI|\n",
      "|               IDAHO|    ID|\n",
      "|            ILLINOIS|    IL|\n",
      "|             INDIANA|    IN|\n",
      "|                IOWA|    IA|\n",
      "|              KANSAS|    KS|\n",
      "|            KENTUCKY|    KY|\n",
      "+--------------------+------+\n",
      "only showing top 20 rows\n",
      "\n"
     ]
    }
   ],
   "source": [
    "# In census data we need to use the state name instead of the two-letter state code with the census data\n",
    "# For this we can use the US State Names and Codes data file\n",
    "# We can look up the standard state names and state code table and get the state name and the population data into a DataFrame.\n",
    "# We can use a join of the two dataframes or we can convert the state names and codes into a dictionary and use it for look up\n",
    "statecodes=spark.read.option('header','true').csv('usstatenamescodes.csv')\n",
    "\n",
    "statecodes.show()"
   ]
  },
  {
   "cell_type": "code",
   "execution_count": 21,
   "id": "f9ca740b",
   "metadata": {},
   "outputs": [
    {
     "name": "stdout",
     "output_type": "stream",
     "text": [
      "+---------+---------------+---------+------+\n",
      "|   STNAME|POPESTIMATE2019|   STNAME|STCODE|\n",
      "+---------+---------------+---------+------+\n",
      "|     UTAH|        6411916|     UTAH|    UT|\n",
      "|   HAWAII|        2831744|   HAWAII|    HI|\n",
      "|MINNESOTA|       11279264|MINNESOTA|    MN|\n",
      "|     OHIO|       23378200|     OHIO|    OH|\n",
      "| ARKANSAS|        6035608| ARKANSAS|    AR|\n",
      "+---------+---------------+---------+------+\n",
      "only showing top 5 rows\n",
      "\n"
     ]
    },
    {
     "data": {
      "text/plain": [
       "50"
      ]
     },
     "execution_count": 21,
     "metadata": {},
     "output_type": "execute_result"
    }
   ],
   "source": [
    "clean=state_est.join(statecodes,state_est.STNAME ==  statecodes.STNAME,\"inner\")\n",
    "clean.show(5)\n",
    "clean.count()"
   ]
  },
  {
   "cell_type": "code",
   "execution_count": 22,
   "id": "98d65b60",
   "metadata": {},
   "outputs": [
    {
     "name": "stdout",
     "output_type": "stream",
     "text": [
      "root\n",
      " |-- state: string (nullable = true)\n",
      " |-- tot_cases: long (nullable = true)\n",
      " |-- tot_death: long (nullable = true)\n",
      "\n",
      "+-----+---------+---------+\n",
      "|state|tot_cases|tot_death|\n",
      "+-----+---------+---------+\n",
      "|   AZ|153218568|  3076458|\n",
      "|   SC| 98460132|  1788444|\n",
      "|   LA| 91629962|  2458995|\n",
      "|   MN| 97118069|  1420024|\n",
      "|  FSM|      127|        0|\n",
      "+-----+---------+---------+\n",
      "only showing top 5 rows\n",
      "\n"
     ]
    },
    {
     "data": {
      "text/plain": [
       "60"
      ]
     },
     "execution_count": 22,
     "metadata": {},
     "output_type": "execute_result"
    }
   ],
   "source": [
    "df.createOrReplaceTempView(\"df\")\n",
    " \n",
    "# use sql function to convert string to integer data type of cost column\n",
    "\n",
    "\n",
    "df5=spark.sql(\"SELECT state,INT(tot_cases),INT(tot_death) from df\")\n",
    "df5=df5.groupby('state').sum('tot_cases','tot_death')\n",
    "df5=df5.withColumnRenamed(\"sum(tot_cases)\",\"tot_cases\")\n",
    "df5=df5.withColumnRenamed(\"sum(tot_death)\",\"tot_death\")\n",
    "df5.printSchema()\n",
    "df5.show(5)\n",
    "df5.count()"
   ]
  },
  {
   "cell_type": "code",
   "execution_count": 23,
   "id": "a7985b73",
   "metadata": {},
   "outputs": [
    {
     "name": "stdout",
     "output_type": "stream",
     "text": [
      "+---------------+---------+------+\n",
      "|POPESTIMATE2019|   STNAME|STCODE|\n",
      "+---------------+---------+------+\n",
      "|        6411916|     UTAH|    UT|\n",
      "|        2831744|   HAWAII|    HI|\n",
      "|       11279264|MINNESOTA|    MN|\n",
      "|       23378200|     OHIO|    OH|\n",
      "|        6035608| ARKANSAS|    AR|\n",
      "+---------------+---------+------+\n",
      "only showing top 5 rows\n",
      "\n"
     ]
    },
    {
     "data": {
      "text/plain": [
       "50"
      ]
     },
     "execution_count": 23,
     "metadata": {},
     "output_type": "execute_result"
    }
   ],
   "source": [
    "clean=state_est.join(statecodes,state_est.STNAME ==  statecodes.STNAME,\"inner\").drop(state_est.STNAME)\n",
    "clean.show(5)\n",
    "clean.count()"
   ]
  },
  {
   "cell_type": "code",
   "execution_count": 24,
   "id": "f1835153",
   "metadata": {},
   "outputs": [
    {
     "name": "stdout",
     "output_type": "stream",
     "text": [
      "+---------+---------+---------------+---------+------+\n",
      "|tot_cases|tot_death|POPESTIMATE2019|   STNAME|STCODE|\n",
      "+---------+---------+---------------+---------+------+\n",
      "| 69106594|   366801|        6411916|     UTAH|    UT|\n",
      "|  5773614|    84060|        2831744|   HAWAII|    HI|\n",
      "| 97118069|  1420024|       11279264|MINNESOTA|    MN|\n",
      "|173640607|  3186269|       23378200|     OHIO|    OH|\n",
      "| 60223666|   985281|        6035608| ARKANSAS|    AR|\n",
      "+---------+---------+---------------+---------+------+\n",
      "only showing top 5 rows\n",
      "\n"
     ]
    },
    {
     "data": {
      "text/plain": [
       "50"
      ]
     },
     "execution_count": 24,
     "metadata": {},
     "output_type": "execute_result"
    }
   ],
   "source": [
    "a=df5.join(clean,df5.state ==  clean.STCODE,\"inner\").drop(df5.state)\n",
    "a.show(5)\n",
    "a.count()"
   ]
  },
  {
   "cell_type": "code",
   "execution_count": 25,
   "id": "5a072a6e",
   "metadata": {},
   "outputs": [
    {
     "name": "stdout",
     "output_type": "stream",
     "text": [
      "+---------------+----------+--------------------+\n",
      "|POPESTIMATE2019| tot_cases|Case Rate per 100000|\n",
      "+---------------+----------+--------------------+\n",
      "|      654360324|5320788314|   8.131281984633286|\n",
      "+---------------+----------+--------------------+\n",
      "\n"
     ]
    }
   ],
   "source": [
    "# Case Rate per 100000 = (Total cases/Total Population of 2019)*100000\n",
    "from pyspark.sql.functions import sum as sum\n",
    "\n",
    "\n",
    "\n",
    "b=a.select(sum('POPESTIMATE2019'), sum('tot_cases'))\n",
    "\n",
    "b=b.withColumnRenamed(\"sum(POPESTIMATE2019)\",\"POPESTIMATE2019\")\n",
    "b=b.withColumnRenamed(\"sum(tot_cases)\",\"tot_cases\")\n",
    "b=b.withColumn(\"Case Rate per 100000\",b.tot_cases/b.POPESTIMATE2019)\n",
    "b.show()"
   ]
  },
  {
   "cell_type": "code",
   "execution_count": 26,
   "id": "d84bca05",
   "metadata": {},
   "outputs": [
    {
     "name": "stdout",
     "output_type": "stream",
     "text": [
      "+---------------+---------+---------------------+\n",
      "|POPESTIMATE2019|tot_death|Death Rate per 100000|\n",
      "+---------------+---------+---------------------+\n",
      "|      654360324|104102765|  0.15909088797382526|\n",
      "+---------------+---------+---------------------+\n",
      "\n"
     ]
    }
   ],
   "source": [
    "# Death Rate per 100000 = (Total deaths/Total Population of 2019)*100000\n",
    "b=a.select(sum('POPESTIMATE2019'), sum('tot_death'))\n",
    "\n",
    "b=b.withColumnRenamed(\"sum(POPESTIMATE2019)\",\"POPESTIMATE2019\")\n",
    "b=b.withColumnRenamed(\"sum(tot_death)\",\"tot_death\")\n",
    "b=b.withColumn(\"Death Rate per 100000\",b.tot_death/b.POPESTIMATE2019)\n",
    "b.show()"
   ]
  },
  {
   "cell_type": "code",
   "execution_count": 27,
   "id": "9d6c01e0",
   "metadata": {},
   "outputs": [],
   "source": [
    "# Load the vaccination allocation data into a dataframe for each brand\n",
    "janssen=spark.read.option('header','true').csv('vaccines_janssen.csv')\n",
    "moderna=spark.read.option('header','true').csv('vaccines_moderna.csv')\n",
    "pfizer=spark.read.option('header','true').csv('vaccines_pfizer.csv')"
   ]
  },
  {
   "cell_type": "code",
   "execution_count": 28,
   "id": "926c8a86",
   "metadata": {},
   "outputs": [
    {
     "name": "stdout",
     "output_type": "stream",
     "text": [
      "+-------------+-------------------+--------------------+\n",
      "| Jurisdiction|Week of Allocations|1st Dose Allocations|\n",
      "+-------------+-------------------+--------------------+\n",
      "|  Connecticut|         05/10/2021|                6400|\n",
      "|        Maine|         05/10/2021|                2500|\n",
      "|Massachusetts|         05/10/2021|               12300|\n",
      "|New Hampshire|         05/10/2021|                2500|\n",
      "+-------------+-------------------+--------------------+\n",
      "only showing top 4 rows\n",
      "\n",
      "+-------------+-------------------+--------------------+--------------------+\n",
      "| Jurisdiction|Week of Allocations|1st Dose Allocations|2nd Dose Allocations|\n",
      "+-------------+-------------------+--------------------+--------------------+\n",
      "|  Connecticut|         05/17/2021|               41220|               41220|\n",
      "|        Maine|         05/17/2021|               15800|               15800|\n",
      "|Massachusetts|         05/17/2021|               79500|               79500|\n",
      "|New Hampshire|         05/17/2021|               15800|               15800|\n",
      "+-------------+-------------------+--------------------+--------------------+\n",
      "only showing top 4 rows\n",
      "\n",
      "+-------------+-------------------+--------------------+--------------------+\n",
      "| Jurisdiction|Week of Allocations|1st Dose Allocations|2nd Dose Allocations|\n",
      "+-------------+-------------------+--------------------+--------------------+\n",
      "|  Connecticut|         05/17/2021|               54990|               54990|\n",
      "|        Maine|         05/17/2021|               21060|               21060|\n",
      "|Massachusetts|         05/17/2021|              105300|              105300|\n",
      "|New Hampshire|         05/17/2021|               21060|               21060|\n",
      "+-------------+-------------------+--------------------+--------------------+\n",
      "only showing top 4 rows\n",
      "\n"
     ]
    }
   ],
   "source": [
    "# Show sample records and check if all columns are displayed correctly\n",
    "janssen.show(4)\n",
    "moderna.show(4)\n",
    "pfizer.show(4)"
   ]
  },
  {
   "cell_type": "code",
   "execution_count": 29,
   "id": "003b321f",
   "metadata": {},
   "outputs": [
    {
     "name": "stdout",
     "output_type": "stream",
     "text": [
      "root\n",
      " |-- Jurisdiction: string (nullable = true)\n",
      " |-- Week of Allocations: string (nullable = true)\n",
      " |-- 1st Dose Allocations: string (nullable = true)\n",
      "\n",
      "root\n",
      " |-- Jurisdiction: string (nullable = true)\n",
      " |-- Week of Allocations: string (nullable = true)\n",
      " |-- 1st Dose Allocations: string (nullable = true)\n",
      " |-- 2nd Dose Allocations: string (nullable = true)\n",
      "\n",
      "root\n",
      " |-- Jurisdiction: string (nullable = true)\n",
      " |-- Week of Allocations: string (nullable = true)\n",
      " |-- 1st Dose Allocations: string (nullable = true)\n",
      " |-- 2nd Dose Allocations: string (nullable = true)\n",
      "\n"
     ]
    }
   ],
   "source": [
    "# Take a look at the dataframe schema and check if data types of all columns are correctly inferred\n",
    "janssen.printSchema()\n",
    "moderna.printSchema()\n",
    "pfizer.printSchema()"
   ]
  },
  {
   "cell_type": "code",
   "execution_count": 30,
   "id": "875117cd",
   "metadata": {},
   "outputs": [
    {
     "name": "stdout",
     "output_type": "stream",
     "text": [
      "+-------------+-------------------+------------------------+\n",
      "| Jurisdiction|Week_of_Allocations|1st_Dose_Allocations_jan|\n",
      "+-------------+-------------------+------------------------+\n",
      "|  Connecticut|         05/10/2021|                    6400|\n",
      "|        Maine|         05/10/2021|                    2500|\n",
      "|Massachusetts|         05/10/2021|                   12300|\n",
      "|New Hampshire|         05/10/2021|                    2500|\n",
      "| Rhode Island|         05/10/2021|                    2000|\n",
      "+-------------+-------------------+------------------------+\n",
      "only showing top 5 rows\n",
      "\n",
      "root\n",
      " |-- Jurisdiction: string (nullable = true)\n",
      " |-- Week_of_Allocations: string (nullable = true)\n",
      " |-- 1st_Dose_Allocations_jan: integer (nullable = true)\n",
      "\n"
     ]
    }
   ],
   "source": [
    "# Take a look at the dataframe description and check descriptions or stats of all numeric columns are appripriate\n",
    "# Note - We can use <df>.describe.show() function for this.\n",
    "janssen.describe()\n",
    "\n",
    "from pyspark.sql import functions as F\n",
    "\n",
    "jan = janssen.select([F.col(col).alias(col.replace(' ', '_')) for col in janssen.columns])\n",
    "jan=jan.withColumnRenamed(\"1st_Dose_Allocations\",\"1st_Dose_Allocations_jan\")\n",
    "\n",
    "jan.createOrReplaceTempView(\"jan\")\n",
    "jan=spark.sql(\"SELECT Jurisdiction,Week_of_Allocations,INT(1st_Dose_Allocations_jan) from jan\")\n",
    "jan.show(5)\n",
    "jan.printSchema()"
   ]
  },
  {
   "cell_type": "code",
   "execution_count": 31,
   "id": "f6ea8065",
   "metadata": {},
   "outputs": [
    {
     "name": "stdout",
     "output_type": "stream",
     "text": [
      "+-------------+-------------------+------------------------+------------------------+\n",
      "| Jurisdiction|Week_of_Allocations|1st_Dose_Allocations_mod|2nd_Dose_Allocations_mod|\n",
      "+-------------+-------------------+------------------------+------------------------+\n",
      "|  Connecticut|         05/17/2021|                   41220|                   41220|\n",
      "|        Maine|         05/17/2021|                   15800|                   15800|\n",
      "|Massachusetts|         05/17/2021|                   79500|                   79500|\n",
      "|New Hampshire|         05/17/2021|                   15800|                   15800|\n",
      "| Rhode Island|         05/17/2021|                   12480|                   12480|\n",
      "+-------------+-------------------+------------------------+------------------------+\n",
      "only showing top 5 rows\n",
      "\n",
      "root\n",
      " |-- Jurisdiction: string (nullable = true)\n",
      " |-- Week_of_Allocations: string (nullable = true)\n",
      " |-- 1st_Dose_Allocations_mod: integer (nullable = true)\n",
      " |-- 2nd_Dose_Allocations_mod: integer (nullable = true)\n",
      "\n"
     ]
    }
   ],
   "source": [
    "moderna.describe()\n",
    "\n",
    "from pyspark.sql import functions as F\n",
    "\n",
    "mod = moderna.select([F.col(col).alias(col.replace(' ', '_')) for col in moderna.columns])\n",
    "mod=mod.withColumnRenamed(\"1st_Dose_Allocations\",\"1st_Dose_Allocations_mod\")\n",
    "mod=mod.withColumnRenamed(\"2nd_Dose_Allocations\",\"2nd_Dose_Allocations_mod\")\n",
    "\n",
    "mod.createOrReplaceTempView(\"mod\")\n",
    "mod=spark.sql(\"SELECT Jurisdiction,Week_of_Allocations,INT(1st_Dose_Allocations_mod),INT(2nd_Dose_Allocations_mod) from mod\")\n",
    "mod.show(5)\n",
    "mod.printSchema()"
   ]
  },
  {
   "cell_type": "code",
   "execution_count": 32,
   "id": "fd70ffbc",
   "metadata": {},
   "outputs": [
    {
     "name": "stdout",
     "output_type": "stream",
     "text": [
      "+-------------+-------------------+------------------------+------------------------+\n",
      "| Jurisdiction|Week_of_Allocations|1st_Dose_Allocations_pfi|2nd_Dose_Allocations_pfi|\n",
      "+-------------+-------------------+------------------------+------------------------+\n",
      "|  Connecticut|         05/17/2021|                   54990|                   54990|\n",
      "|        Maine|         05/17/2021|                   21060|                   21060|\n",
      "|Massachusetts|         05/17/2021|                  105300|                  105300|\n",
      "|New Hampshire|         05/17/2021|                   21060|                   21060|\n",
      "| Rhode Island|         05/17/2021|                   16380|                   16380|\n",
      "+-------------+-------------------+------------------------+------------------------+\n",
      "only showing top 5 rows\n",
      "\n",
      "root\n",
      " |-- Jurisdiction: string (nullable = true)\n",
      " |-- Week_of_Allocations: string (nullable = true)\n",
      " |-- 1st_Dose_Allocations_pfi: integer (nullable = true)\n",
      " |-- 2nd_Dose_Allocations_pfi: integer (nullable = true)\n",
      "\n"
     ]
    }
   ],
   "source": [
    "pfizer.describe()\n",
    "\n",
    "from pyspark.sql import functions as F\n",
    "\n",
    "pfi = pfizer.select([F.col(col).alias(col.replace(' ', '_')) for col in pfizer.columns])\n",
    "pfi=pfi.withColumnRenamed(\"1st_Dose_Allocations\",\"1st_Dose_Allocations_pfi\")\n",
    "pfi=pfi.withColumnRenamed(\"2nd_Dose_Allocations\",\"2nd_Dose_Allocations_pfi\")\n",
    "\n",
    "pfi.createOrReplaceTempView(\"pfi\")\n",
    "pfi=spark.sql(\"SELECT Jurisdiction,Week_of_Allocations,INT(1st_Dose_Allocations_pfi),INT(2nd_Dose_Allocations_pfi) from pfi\")\n",
    "pfi.show(5)\n",
    "pfi.printSchema()\n"
   ]
  },
  {
   "cell_type": "code",
   "execution_count": 33,
   "id": "a10e37fd",
   "metadata": {},
   "outputs": [
    {
     "name": "stdout",
     "output_type": "stream",
     "text": [
      "Janssen vaccine statewise allocation\n",
      "+-------------------+-----------------------------+\n",
      "|Jurisdiction       |sum(1st_Dose_Allocations_jan)|\n",
      "+-------------------+-----------------------------+\n",
      "|Utah               |102100                       |\n",
      "|Mariana Islands    |2600                         |\n",
      "|Hawaii             |53500                        |\n",
      "|U.S. Virgin Islands|4300                         |\n",
      "|Minnesota          |202000                       |\n",
      "|Ohio               |428800                       |\n",
      "|Arkansas           |109000                       |\n",
      "|Oregon             |153700                       |\n",
      "|Philadelphia       |58600                        |\n",
      "|Palau              |3800                         |\n",
      "|Texas              |978300                       |\n",
      "|North Dakota       |28500                        |\n",
      "|Pennsylvania       |422200                       |\n",
      "|Connecticut        |134800                       |\n",
      "|Vermont            |24500                        |\n",
      "|Nebraska           |69300                        |\n",
      "|American Samoa     |4600                         |\n",
      "|Nevada             |107200                       |\n",
      "|Marshall Islands   |10800                        |\n",
      "|Puerto Rico        |128600                       |\n",
      "+-------------------+-----------------------------+\n",
      "only showing top 20 rows\n",
      "\n"
     ]
    }
   ],
   "source": [
    "# Get the total allocation state-wise from the given week-wise break up of data \n",
    "# Repeat these steps for the other two brands of vaccine\n",
    "print(\"Janssen vaccine statewise allocation\")\n",
    "jan.groupBy(\"Jurisdiction\").sum(\"1st_Dose_Allocations_jan\").show(truncate=False)"
   ]
  },
  {
   "cell_type": "code",
   "execution_count": 34,
   "id": "4a64a419",
   "metadata": {},
   "outputs": [
    {
     "name": "stdout",
     "output_type": "stream",
     "text": [
      "Moderna vaccine statewise allocation\n",
      "+-------------------+-----------------------------+-----------------------------+\n",
      "|Jurisdiction       |sum(1st_Dose_Allocations_mod)|sum(2nd_Dose_Allocations_mod)|\n",
      "+-------------------+-----------------------------+-----------------------------+\n",
      "|Utah               |580520                       |580520                       |\n",
      "|Mariana Islands    |17800                        |0                            |\n",
      "|Hawaii             |303660                       |303660                       |\n",
      "|U.S. Virgin Islands|23460                        |23460                        |\n",
      "|Minnesota          |1152420                      |1152420                      |\n",
      "|Ohio               |2445560                      |2445560                      |\n",
      "|Arkansas           |619920                       |619920                       |\n",
      "|Oregon             |874960                       |874960                       |\n",
      "|Philadelphia       |334340                       |334340                       |\n",
      "|Palau              |20400                        |0                            |\n",
      "|Texas              |5580440                      |5580440                      |\n",
      "|North Dakota       |160800                       |160800                       |\n",
      "|Pennsylvania       |2409000                      |2409000                      |\n",
      "|Connecticut        |767420                       |767420                       |\n",
      "|Vermont            |138980                       |138980                       |\n",
      "|Nebraska           |393820                       |393820                       |\n",
      "|American Samoa     |17400                        |0                            |\n",
      "|Nevada             |610660                       |610660                       |\n",
      "|Marshall Islands   |51000                        |0                            |\n",
      "|Puerto Rico        |732400                       |732400                       |\n",
      "+-------------------+-----------------------------+-----------------------------+\n",
      "only showing top 20 rows\n",
      "\n"
     ]
    }
   ],
   "source": [
    "print(\"Moderna vaccine statewise allocation\")\n",
    "mod.groupBy(\"Jurisdiction\").sum(\"1st_Dose_Allocations_mod\",\"2nd_Dose_Allocations_mod\").show(truncate=False)"
   ]
  },
  {
   "cell_type": "code",
   "execution_count": 35,
   "id": "c252dfb2",
   "metadata": {},
   "outputs": [
    {
     "name": "stdout",
     "output_type": "stream",
     "text": [
      "Pfizer vaccine statewise allocation\n",
      "+-------------------+-----------------------------+-----------------------------+\n",
      "|Jurisdiction       |sum(1st_Dose_Allocations_pfi)|sum(2nd_Dose_Allocations_pfi)|\n",
      "+-------------------+-----------------------------+-----------------------------+\n",
      "|Utah               |679575                       |679575                       |\n",
      "|Mariana Islands    |42510                        |0                            |\n",
      "|Hawaii             |365040                       |365040                       |\n",
      "|U.S. Virgin Islands|39000                        |39000                        |\n",
      "|Minnesota          |1344915                      |1344915                      |\n",
      "|Ohio               |2848365                      |2848365                      |\n",
      "|Arkansas           |729300                       |729300                       |\n",
      "|Oregon             |1026090                      |1026090                      |\n",
      "|Philadelphia       |402870                       |402870                       |\n",
      "|Palau              |0                            |0                            |\n",
      "|Texas              |6477705                      |6477705                      |\n",
      "|North Dakota       |193245                       |193245                       |\n",
      "|Pennsylvania       |2803125                      |2803125                      |\n",
      "|Connecticut        |904800                       |904800                       |\n",
      "|Vermont            |174915                       |174915                       |\n",
      "|Nebraska           |465270                       |465270                       |\n",
      "|American Samoa     |42510                        |0                            |\n",
      "|Nevada             |717210                       |717210                       |\n",
      "|Marshall Islands   |0                            |0                            |\n",
      "|Puerto Rico        |865800                       |865800                       |\n",
      "+-------------------+-----------------------------+-----------------------------+\n",
      "only showing top 20 rows\n",
      "\n"
     ]
    }
   ],
   "source": [
    "print(\"Pfizer vaccine statewise allocation\")\n",
    "pfi.groupBy(\"Jurisdiction\").sum(\"1st_Dose_Allocations_pfi\",\"2nd_Dose_Allocations_pfi\").show(truncate=False)"
   ]
  },
  {
   "cell_type": "code",
   "execution_count": 36,
   "id": "5c88b867",
   "metadata": {},
   "outputs": [
    {
     "name": "stdout",
     "output_type": "stream",
     "text": [
      "+------------+-------------------+------------------------+-------------------+------------------------+------------------------+\n",
      "|Jurisdiction|Week_of_Allocations|1st_Dose_Allocations_jan|Week_of_Allocations|1st_Dose_Allocations_mod|2nd_Dose_Allocations_mod|\n",
      "+------------+-------------------+------------------------+-------------------+------------------------+------------------------+\n",
      "| Connecticut|         03/01/2021|                   30200|         05/17/2021|                   41220|                   41220|\n",
      "| Connecticut|         03/15/2021|                    4200|         05/17/2021|                   41220|                   41220|\n",
      "| Connecticut|         03/22/2021|                    4200|         05/17/2021|                   41220|                   41220|\n",
      "| Connecticut|         03/29/2021|                   21200|         05/17/2021|                   41220|                   41220|\n",
      "| Connecticut|         04/05/2021|                   53900|         05/17/2021|                   41220|                   41220|\n",
      "+------------+-------------------+------------------------+-------------------+------------------------+------------------------+\n",
      "only showing top 5 rows\n",
      "\n"
     ]
    }
   ],
   "source": [
    "# We can use union and Get the data of all the three brands into one dataframe\n",
    "d=jan.join(mod,jan.Jurisdiction ==  mod.Jurisdiction,\"inner\").drop(mod.Jurisdiction)\n",
    "d.show(5)"
   ]
  },
  {
   "cell_type": "code",
   "execution_count": 37,
   "id": "83aa235b",
   "metadata": {},
   "outputs": [
    {
     "name": "stdout",
     "output_type": "stream",
     "text": [
      "+------------+-------------------+------------------------+-------------------+------------------------+------------------------+-------------------+------------------------+------------------------+\n",
      "|Jurisdiction|Week_of_Allocations|1st_Dose_Allocations_jan|Week_of_Allocations|1st_Dose_Allocations_mod|2nd_Dose_Allocations_mod|Week_of_Allocations|1st_Dose_Allocations_pfi|2nd_Dose_Allocations_pfi|\n",
      "+------------+-------------------+------------------------+-------------------+------------------------+------------------------+-------------------+------------------------+------------------------+\n",
      "| Connecticut|         03/01/2021|                   30200|         05/17/2021|                   41220|                   41220|         12/14/2020|                   31200|                   31200|\n",
      "| Connecticut|         03/01/2021|                   30200|         05/17/2021|                   41220|                   41220|         12/21/2020|                   22425|                   22425|\n",
      "| Connecticut|         03/01/2021|                   30200|         05/17/2021|                   41220|                   41220|         12/28/2020|                   28275|                   28275|\n",
      "| Connecticut|         03/01/2021|                   30200|         05/17/2021|                   41220|                   41220|         01/04/2021|                   22425|                   22425|\n",
      "| Connecticut|         03/01/2021|                   30200|         05/17/2021|                   41220|                   41220|         01/11/2021|                   22425|                   22425|\n",
      "+------------+-------------------+------------------------+-------------------+------------------------+------------------------+-------------------+------------------------+------------------------+\n",
      "only showing top 5 rows\n",
      "\n"
     ]
    }
   ],
   "source": [
    "e=d.join(pfi,d.Jurisdiction ==  pfi.Jurisdiction,\"inner\").drop(pfi.Jurisdiction)\n",
    "e.show(5)"
   ]
  },
  {
   "cell_type": "code",
   "execution_count": 38,
   "id": "895313e5",
   "metadata": {},
   "outputs": [
    {
     "name": "stdout",
     "output_type": "stream",
     "text": [
      "+-------------------+-------------+-------------+-------------+------------+------------+\n",
      "|       Jurisdiction|dose1_janssen|dose1_moderna|dose2_moderna|dose1_pfizer|dose2_pfizer|\n",
      "+-------------------+-------------+-------------+-------------+------------+------------+\n",
      "|               Utah|     51662600|    106815680|    106815680|   119605200|   119605200|\n",
      "|    Mariana Islands|      1315600|      3275200|            0|     7481760|           0|\n",
      "|             Hawaii|     27071000|     55873440|     55873440|    64247040|    64247040|\n",
      "|U.S. Virgin Islands|      2175800|      4316640|      4316640|     6864000|     6864000|\n",
      "|          Minnesota|    102212000|    212045280|    212045280|   236705040|   236705040|\n",
      "+-------------------+-------------+-------------+-------------+------------+------------+\n",
      "only showing top 5 rows\n",
      "\n"
     ]
    }
   ],
   "source": [
    "#Get the total allocation state-wise using group by aggregation\n",
    "f=e.groupBy(\"Jurisdiction\").sum(\"1st_Dose_Allocations_jan\",\"1st_Dose_Allocations_mod\",\"2nd_Dose_Allocations_mod\",\"1st_Dose_Allocations_pfi\",\"2nd_Dose_Allocations_pfi\")\n",
    "f=f.withColumnRenamed(\"sum(1st_Dose_Allocations_jan)\",\"dose1_janssen\")\n",
    "f=f.withColumnRenamed(\"sum(1st_Dose_Allocations_mod)\",\"dose1_moderna\")\n",
    "f=f.withColumnRenamed(\"sum(2nd_Dose_Allocations_mod)\",\"dose2_moderna\")\n",
    "f=f.withColumnRenamed(\"sum(1st_Dose_Allocations_pfi)\",\"dose1_pfizer\")\n",
    "f=f.withColumnRenamed(\"sum(2nd_Dose_Allocations_pfi)\",\"dose2_pfizer\")\n",
    "f.show(5)"
   ]
  },
  {
   "cell_type": "code",
   "execution_count": 39,
   "id": "f46b8568",
   "metadata": {
    "scrolled": true
   },
   "outputs": [
    {
     "name": "stdout",
     "output_type": "stream",
     "text": [
      "+-------------------+-------------+-------------+-------------+------------+------------+----------+\n",
      "|       Jurisdiction|dose1_janssen|dose1_moderna|dose2_moderna|dose1_pfizer|dose2_pfizer|total_vacc|\n",
      "+-------------------+-------------+-------------+-------------+------------+------------+----------+\n",
      "|               Utah|     51662600|    106815680|    106815680|   119605200|   119605200| 504504360|\n",
      "|    Mariana Islands|      1315600|      3275200|            0|     7481760|           0|  12072560|\n",
      "|             Hawaii|     27071000|     55873440|     55873440|    64247040|    64247040| 267311960|\n",
      "|U.S. Virgin Islands|      2175800|      4316640|      4316640|     6864000|     6864000|  24537080|\n",
      "|          Minnesota|    102212000|    212045280|    212045280|   236705040|   236705040| 999712640|\n",
      "|               Ohio|    216972800|    449983040|    449983040|   501312240|   501312240|2119563360|\n",
      "|           Arkansas|     55154000|    114065280|    114065280|   128356800|   128356800| 539998160|\n",
      "|             Oregon|     77772200|    160992640|    160992640|   180591840|   180591840| 760941160|\n",
      "|       Philadelphia|     29651600|     61518560|     61518560|    70905120|    70905120| 294498960|\n",
      "|              Palau|      1922800|      3753600|            0|           0|           0|   5676400|\n",
      "|              Texas|    495019800|   1026800960|   1026800960|  1140076080|  1140076080|4828773880|\n",
      "|       North Dakota|     14421000|     29587200|     29587200|    34011120|    34011120| 141617640|\n",
      "|       Pennsylvania|    213633200|    443256000|    443256000|   493350000|   493350000|2086845200|\n",
      "|        Connecticut|     68208800|    141205280|    141205280|   159244800|   159244800| 669108960|\n",
      "|            Vermont|     12397000|     25572320|     25572320|    30785040|    30785040| 125111720|\n",
      "|           Nebraska|     35065800|     72462880|     72462880|    81887520|    81887520| 343766600|\n",
      "|     American Samoa|      2327600|      3201600|            0|     7481760|           0|  13010960|\n",
      "|             Nevada|     54243200|    112361440|    112361440|   126228960|   126228960| 531424000|\n",
      "|   Marshall Islands|      5464800|      9384000|            0|           0|           0|  14848800|\n",
      "|        Puerto Rico|     65071600|    134761600|    134761600|   152380800|   152380800| 639356400|\n",
      "+-------------------+-------------+-------------+-------------+------------+------------+----------+\n",
      "only showing top 20 rows\n",
      "\n"
     ]
    }
   ],
   "source": [
    "g=f.withColumn(\"total_vacc\", col(\"dose1_janssen\")+col(\"dose1_moderna\")+col(\"dose2_moderna\")+col(\"dose1_pfizer\")+col(\"dose2_pfizer\"))\n",
    "g.show()"
   ]
  },
  {
   "cell_type": "code",
   "execution_count": 40,
   "id": "c93899a7",
   "metadata": {
    "scrolled": true
   },
   "outputs": [
    {
     "name": "stdout",
     "output_type": "stream",
     "text": [
      "+------------+-------------+-------------+-------------+------------+------------+----------+---------------+\n",
      "|Jurisdiction|dose1_janssen|dose1_moderna|dose2_moderna|dose1_pfizer|dose2_pfizer|total_vacc|POPESTIMATE2019|\n",
      "+------------+-------------+-------------+-------------+------------+------------+----------+---------------+\n",
      "|        UTAH|     51662600|    106815680|    106815680|   119605200|   119605200| 504504360|        6411916|\n",
      "|      HAWAII|     27071000|     55873440|     55873440|    64247040|    64247040| 267311960|        2831744|\n",
      "|   MINNESOTA|    102212000|    212045280|    212045280|   236705040|   236705040| 999712640|       11279264|\n",
      "|        OHIO|    216972800|    449983040|    449983040|   501312240|   501312240|2119563360|       23378200|\n",
      "|    ARKANSAS|     55154000|    114065280|    114065280|   128356800|   128356800| 539998160|        6035608|\n",
      "+------------+-------------+-------------+-------------+------------+------------+----------+---------------+\n",
      "only showing top 5 rows\n",
      "\n"
     ]
    }
   ],
   "source": [
    "# Get the Population ratio covered by vaccination in each state by joining the census data\n",
    "g = g.withColumn(\"Jurisdiction\",func.upper(func.col(\"Jurisdiction\")))\n",
    "df7=g.join(state_est,g.Jurisdiction ==  state_est.STNAME,\"inner\").drop(pfi.Jurisdiction).drop(state_est.STNAME)\n",
    "df7.show(5)\n"
   ]
  },
  {
   "cell_type": "code",
   "execution_count": 41,
   "id": "329aa73e",
   "metadata": {},
   "outputs": [
    {
     "name": "stdout",
     "output_type": "stream",
     "text": [
      "+--------------------+-------------+-------------+-------------+------------+------------+----------+---------------+---------------------------+\n",
      "|        Jurisdiction|dose1_janssen|dose1_moderna|dose2_moderna|dose1_pfizer|dose2_pfizer|total_vacc|POPESTIMATE2019|Population_ratio_vaccinated|\n",
      "+--------------------+-------------+-------------+-------------+------------+------------+----------+---------------+---------------------------+\n",
      "|                UTAH|     51662600|    106815680|    106815680|   119605200|   119605200| 504504360|        6411916|       0.012709337140317281|\n",
      "|              HAWAII|     27071000|     55873440|     55873440|    64247040|    64247040| 267311960|        2831744|       0.010593405547585675|\n",
      "|           MINNESOTA|    102212000|    212045280|    212045280|   236705040|   236705040| 999712640|       11279264|       0.011282506140964668|\n",
      "|                OHIO|    216972800|    449983040|    449983040|   501312240|   501312240|2119563360|       23378200|       0.011029724537227328|\n",
      "|            ARKANSAS|     55154000|    114065280|    114065280|   128356800|   128356800| 539998160|        6035608|       0.011177089936750895|\n",
      "|              OREGON|     77772200|    160992640|    160992640|   180591840|   180591840| 760941160|        8435474|        0.01108557986270581|\n",
      "|               TEXAS|    495019800|   1026800960|   1026800960|  1140076080|  1140076080|4828773880|       57991762|       0.012009624687582182|\n",
      "|        NORTH DAKOTA|     14421000|     29587200|     29587200|    34011120|    34011120| 141617640|        1524124|       0.010762246850039302|\n",
      "|        PENNSYLVANIA|    213633200|    443256000|    443256000|   493350000|   493350000|2086845200|       25603978|       0.012269227252697038|\n",
      "|         CONNECTICUT|     68208800|    141205280|    141205280|   159244800|   159244800| 669108960|        7130574|       0.010656820377954587|\n",
      "|             VERMONT|     12397000|     25572320|     25572320|    30785040|    30785040| 125111720|        1247978|       0.009974908825488132|\n",
      "|            NEBRASKA|     35065800|     72462880|     72462880|    81887520|    81887520| 343766600|        3868816|       0.011254193979287109|\n",
      "|              NEVADA|     54243200|    112361440|    112361440|   126228960|   126228960| 531424000|        6160312|       0.011592084663093876|\n",
      "|          WASHINGTON|    137632000|    285645280|    285645280|   321132240|   321132240|1351187040|       15229786|       0.011271412135510122|\n",
      "|            ILLINOIS|    187776600|    389207840|    389207840|   433667520|   433667520|1833527320|       25343642|        0.01382234217268167|\n",
      "|            OKLAHOMA|     71346000|    147821920|    147821920|   166486320|   166486320| 699962480|        7913942|       0.011306237442898368|\n",
      "|DISTRICT OF COLUMBIA|     13763200|     28339680|     28339680|    33805200|    33805200| 138052960|        1411498|        0.01022432260778762|\n",
      "|            DELAWARE|     18064200|     37432960|     37432960|    44135520|    44135520| 181201160|        1947528|       0.010747878214466176|\n",
      "|              ALASKA|     20189400|     41558240|     41558240|    50381760|    48322560| 202010200|        1463090|       0.007242654083803689|\n",
      "|          NEW MEXICO|     38962000|     80831200|     80831200|    91634400|    91634400| 383893200|        4193658|        0.01092402261879085|\n",
      "+--------------------+-------------+-------------+-------------+------------+------------+----------+---------------+---------------------------+\n",
      "only showing top 20 rows\n",
      "\n"
     ]
    }
   ],
   "source": [
    "df7=df7.withColumn(\"Population_ratio_vaccinated\",df7.POPESTIMATE2019/df7.total_vacc)\n",
    "df7.show()"
   ]
  },
  {
   "cell_type": "code",
   "execution_count": 42,
   "id": "0d846365",
   "metadata": {
    "scrolled": true
   },
   "outputs": [
    {
     "name": "stdout",
     "output_type": "stream",
     "text": [
      "+--------------------+-------------+-------------+-------------+------------+------------+----------+---------------+---------------------------+-------------------------------+\n",
      "|        Jurisdiction|dose1_janssen|dose1_moderna|dose2_moderna|dose1_pfizer|dose2_pfizer|total_vacc|POPESTIMATE2019|Population_ratio_vaccinated|Population_ratio_not_vaccinated|\n",
      "+--------------------+-------------+-------------+-------------+------------+------------+----------+---------------+---------------------------+-------------------------------+\n",
      "|                UTAH|     51662600|    106815680|    106815680|   119605200|   119605200| 504504360|        6411916|       0.012709337140317281|              78.68230962476738|\n",
      "|              HAWAII|     27071000|     55873440|     55873440|    64247040|    64247040| 267311960|        2831744|       0.010593405547585675|              94.39834956832256|\n",
      "|           MINNESOTA|    102212000|    212045280|    212045280|   236705040|   236705040| 999712640|       11279264|       0.011282506140964668|               88.6327902246104|\n",
      "|                OHIO|    216972800|    449983040|    449983040|   501312240|   501312240|2119563360|       23378200|       0.011029724537227328|               90.6640956104405|\n",
      "|            ARKANSAS|     55154000|    114065280|    114065280|   128356800|   128356800| 539998160|        6035608|       0.011177089936750895|              89.46872626585424|\n",
      "|              OREGON|     77772200|    160992640|    160992640|   180591840|   180591840| 760941160|        8435474|        0.01108557986270581|              90.20727940125238|\n",
      "|               TEXAS|    495019800|   1026800960|   1026800960|  1140076080|  1140076080|4828773880|       57991762|       0.012009624687582182|              83.26654879015402|\n",
      "|        NORTH DAKOTA|     14421000|     29587200|     29587200|    34011120|    34011120| 141617640|        1524124|       0.010762246850039302|              92.91740042148801|\n",
      "|        PENNSYLVANIA|    213633200|    443256000|    443256000|   493350000|   493350000|2086845200|       25603978|       0.012269227252697038|               81.5047255547556|\n",
      "|         CONNECTICUT|     68208800|    141205280|    141205280|   159244800|   159244800| 669108960|        7130574|       0.010656820377954587|              93.83661960453675|\n",
      "|             VERMONT|     12397000|     25572320|     25572320|    30785040|    30785040| 125111720|        1247978|       0.009974908825488132|             100.25154289578823|\n",
      "|            NEBRASKA|     35065800|     72462880|     72462880|    81887520|    81887520| 343766600|        3868816|       0.011254193979287109|              88.85576362380635|\n",
      "|              NEVADA|     54243200|    112361440|    112361440|   126228960|   126228960| 531424000|        6160312|       0.011592084663093876|              86.26576056537397|\n",
      "|          WASHINGTON|    137632000|    285645280|    285645280|   321132240|   321132240|1351187040|       15229786|       0.011271412135510122|              88.72002797675555|\n",
      "|            ILLINOIS|    187776600|    389207840|    389207840|   433667520|   433667520|1833527320|       25343642|        0.01382234217268167|              72.34663905053583|\n",
      "|            OKLAHOMA|     71346000|    147821920|    147821920|   166486320|   166486320| 699962480|        7913942|       0.011306237442898368|               88.4467538427752|\n",
      "|DISTRICT OF COLUMBIA|     13763200|     28339680|     28339680|    33805200|    33805200| 138052960|        1411498|        0.01022432260778762|              97.80599051504147|\n",
      "|            DELAWARE|     18064200|     37432960|     37432960|    44135520|    44135520| 181201160|        1947528|       0.010747878214466176|              93.04161994076594|\n",
      "|              ALASKA|     20189400|     41558240|     41558240|    50381760|    48322560| 202010200|        1463090|       0.007242654083803689|             138.07093206843052|\n",
      "|          NEW MEXICO|     38962000|     80831200|     80831200|    91634400|    91634400| 383893200|        4193658|        0.01092402261879085|              91.54137032633562|\n",
      "+--------------------+-------------+-------------+-------------+------------+------------+----------+---------------+---------------------------+-------------------------------+\n",
      "only showing top 20 rows\n",
      "\n"
     ]
    }
   ],
   "source": [
    "# Similarly Get the Population ratio not yet covered by vaccination in each state\n",
    "df7=df7.withColumn(\"Population_ratio_not_vaccinated\",df7.total_vacc/df7.POPESTIMATE2019)\n",
    "df7.show()"
   ]
  },
  {
   "cell_type": "code",
   "execution_count": null,
   "id": "1ad92099",
   "metadata": {},
   "outputs": [],
   "source": []
  }
 ],
 "metadata": {
  "kernelspec": {
   "display_name": "Python 3",
   "language": "python",
   "name": "python3"
  },
  "language_info": {
   "codemirror_mode": {
    "name": "ipython",
    "version": 3
   },
   "file_extension": ".py",
   "mimetype": "text/x-python",
   "name": "python",
   "nbconvert_exporter": "python",
   "pygments_lexer": "ipython3",
   "version": "3.8.8"
  }
 },
 "nbformat": 4,
 "nbformat_minor": 5
}
