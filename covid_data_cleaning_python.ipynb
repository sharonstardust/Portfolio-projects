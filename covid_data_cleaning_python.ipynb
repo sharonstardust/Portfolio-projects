{
 "cells": [
  {
   "cell_type": "code",
   "execution_count": 1,
   "id": "dbb287b6",
   "metadata": {},
   "outputs": [],
   "source": [
    "import pandas as pd\n",
    "import numpy as np\n",
    "import matplotlib.pyplot as plt\n",
    "import seaborn as sns"
   ]
  },
  {
   "cell_type": "code",
   "execution_count": 2,
   "id": "e2f56141",
   "metadata": {},
   "outputs": [
    {
     "data": {
      "text/html": [
       "<div>\n",
       "<style scoped>\n",
       "    .dataframe tbody tr th:only-of-type {\n",
       "        vertical-align: middle;\n",
       "    }\n",
       "\n",
       "    .dataframe tbody tr th {\n",
       "        vertical-align: top;\n",
       "    }\n",
       "\n",
       "    .dataframe thead th {\n",
       "        text-align: right;\n",
       "    }\n",
       "</style>\n",
       "<table border=\"1\" class=\"dataframe\">\n",
       "  <thead>\n",
       "    <tr style=\"text-align: right;\">\n",
       "      <th></th>\n",
       "      <th>Unnamed: 0</th>\n",
       "      <th>county_fips</th>\n",
       "      <th>county_name</th>\n",
       "      <th>state_name</th>\n",
       "      <th>state_fips</th>\n",
       "      <th>date</th>\n",
       "      <th>deaths</th>\n",
       "      <th>lat</th>\n",
       "      <th>long</th>\n",
       "      <th>geometry</th>\n",
       "    </tr>\n",
       "  </thead>\n",
       "  <tbody>\n",
       "    <tr>\n",
       "      <th>600655</th>\n",
       "      <td>600655</td>\n",
       "      <td>56045</td>\n",
       "      <td>Weston County</td>\n",
       "      <td>WY</td>\n",
       "      <td>56</td>\n",
       "      <td>2020-07-23</td>\n",
       "      <td>0</td>\n",
       "      <td>43.839612</td>\n",
       "      <td>-104.567488</td>\n",
       "      <td>POINT (-104.5674881 43.83961191)</td>\n",
       "    </tr>\n",
       "    <tr>\n",
       "      <th>600656</th>\n",
       "      <td>600656</td>\n",
       "      <td>56045</td>\n",
       "      <td>Weston County</td>\n",
       "      <td>WY</td>\n",
       "      <td>56</td>\n",
       "      <td>2020-07-24</td>\n",
       "      <td>0</td>\n",
       "      <td>43.839612</td>\n",
       "      <td>-104.567488</td>\n",
       "      <td>POINT (-104.5674881 43.83961191)</td>\n",
       "    </tr>\n",
       "    <tr>\n",
       "      <th>600657</th>\n",
       "      <td>600657</td>\n",
       "      <td>56045</td>\n",
       "      <td>Weston County</td>\n",
       "      <td>WY</td>\n",
       "      <td>56</td>\n",
       "      <td>2020-07-25</td>\n",
       "      <td>0</td>\n",
       "      <td>43.839612</td>\n",
       "      <td>-104.567488</td>\n",
       "      <td>POINT (-104.5674881 43.83961191)</td>\n",
       "    </tr>\n",
       "    <tr>\n",
       "      <th>600658</th>\n",
       "      <td>600658</td>\n",
       "      <td>56045</td>\n",
       "      <td>Weston County</td>\n",
       "      <td>WY</td>\n",
       "      <td>56</td>\n",
       "      <td>2020-07-26</td>\n",
       "      <td>0</td>\n",
       "      <td>43.839612</td>\n",
       "      <td>-104.567488</td>\n",
       "      <td>POINT (-104.5674881 43.83961191)</td>\n",
       "    </tr>\n",
       "    <tr>\n",
       "      <th>600659</th>\n",
       "      <td>600659</td>\n",
       "      <td>56045</td>\n",
       "      <td>Weston County</td>\n",
       "      <td>WY</td>\n",
       "      <td>56</td>\n",
       "      <td>2020-07-27</td>\n",
       "      <td>0</td>\n",
       "      <td>43.839612</td>\n",
       "      <td>-104.567488</td>\n",
       "      <td>POINT (-104.5674881 43.83961191)</td>\n",
       "    </tr>\n",
       "  </tbody>\n",
       "</table>\n",
       "</div>"
      ],
      "text/plain": [
       "        Unnamed: 0  county_fips    county_name state_name  state_fips  \\\n",
       "600655      600655        56045  Weston County         WY          56   \n",
       "600656      600656        56045  Weston County         WY          56   \n",
       "600657      600657        56045  Weston County         WY          56   \n",
       "600658      600658        56045  Weston County         WY          56   \n",
       "600659      600659        56045  Weston County         WY          56   \n",
       "\n",
       "              date  deaths        lat        long  \\\n",
       "600655  2020-07-23       0  43.839612 -104.567488   \n",
       "600656  2020-07-24       0  43.839612 -104.567488   \n",
       "600657  2020-07-25       0  43.839612 -104.567488   \n",
       "600658  2020-07-26       0  43.839612 -104.567488   \n",
       "600659  2020-07-27       0  43.839612 -104.567488   \n",
       "\n",
       "                                geometry  \n",
       "600655  POINT (-104.5674881 43.83961191)  \n",
       "600656  POINT (-104.5674881 43.83961191)  \n",
       "600657  POINT (-104.5674881 43.83961191)  \n",
       "600658  POINT (-104.5674881 43.83961191)  \n",
       "600659  POINT (-104.5674881 43.83961191)  "
      ]
     },
     "execution_count": 2,
     "metadata": {},
     "output_type": "execute_result"
    }
   ],
   "source": [
    "##reading the confirmed-covid-19-deaths-in-us-by-state-and-county copy.csv file\n",
    "df = pd.read_csv(\"confirmed-covid-19-deaths-in-us-by-state-and-county copy.csv\")\n",
    "df.tail()"
   ]
  },
  {
   "cell_type": "code",
   "execution_count": 3,
   "id": "ac750db5",
   "metadata": {},
   "outputs": [
    {
     "name": "stdout",
     "output_type": "stream",
     "text": [
      "<class 'pandas.core.frame.DataFrame'>\n",
      "RangeIndex: 600660 entries, 0 to 600659\n",
      "Data columns (total 10 columns):\n",
      " #   Column       Non-Null Count   Dtype  \n",
      "---  ------       --------------   -----  \n",
      " 0   Unnamed: 0   600660 non-null  int64  \n",
      " 1   county_fips  600660 non-null  int64  \n",
      " 2   county_name  600660 non-null  object \n",
      " 3   state_name   600660 non-null  object \n",
      " 4   state_fips   600660 non-null  int64  \n",
      " 5   date         600660 non-null  object \n",
      " 6   deaths       600660 non-null  int64  \n",
      " 7   lat          590696 non-null  float64\n",
      " 8   long         590696 non-null  float64\n",
      " 9   geometry     590696 non-null  object \n",
      "dtypes: float64(2), int64(4), object(4)\n",
      "memory usage: 45.8+ MB\n"
     ]
    }
   ],
   "source": [
    "df.info()"
   ]
  },
  {
   "cell_type": "code",
   "execution_count": 4,
   "id": "7a9e36ce",
   "metadata": {},
   "outputs": [
    {
     "data": {
      "text/plain": [
       "Unnamed: 0        0\n",
       "county_fips       0\n",
       "county_name       0\n",
       "state_name        0\n",
       "state_fips        0\n",
       "date              0\n",
       "deaths            0\n",
       "lat            9964\n",
       "long           9964\n",
       "geometry       9964\n",
       "dtype: int64"
      ]
     },
     "execution_count": 4,
     "metadata": {},
     "output_type": "execute_result"
    }
   ],
   "source": [
    "df.isna().sum()\n",
    "##there are no null values except for lat and long which we can ignore "
   ]
  },
  {
   "cell_type": "code",
   "execution_count": 5,
   "id": "0233abda",
   "metadata": {},
   "outputs": [
    {
     "data": {
      "text/plain": [
       "Unnamed: 0     600660\n",
       "county_fips      3146\n",
       "county_name      1882\n",
       "state_name         51\n",
       "state_fips         51\n",
       "date              188\n",
       "deaths           2233\n",
       "lat              3142\n",
       "long             3142\n",
       "geometry         3142\n",
       "dtype: int64"
      ]
     },
     "execution_count": 5,
     "metadata": {},
     "output_type": "execute_result"
    }
   ],
   "source": [
    "df.nunique()"
   ]
  },
  {
   "cell_type": "code",
   "execution_count": 6,
   "id": "8189ed75",
   "metadata": {},
   "outputs": [
    {
     "name": "stdout",
     "output_type": "stream",
     "text": [
      "<class 'pandas.core.frame.DataFrame'>\n",
      "RangeIndex: 600660 entries, 0 to 600659\n",
      "Data columns (total 10 columns):\n",
      " #   Column       Non-Null Count   Dtype         \n",
      "---  ------       --------------   -----         \n",
      " 0   Unnamed: 0   600660 non-null  int64         \n",
      " 1   county_fips  600660 non-null  int64         \n",
      " 2   county_name  600660 non-null  object        \n",
      " 3   state_name   600660 non-null  object        \n",
      " 4   state_fips   600660 non-null  int64         \n",
      " 5   date         600660 non-null  datetime64[ns]\n",
      " 6   deaths       600660 non-null  int64         \n",
      " 7   lat          590696 non-null  float64       \n",
      " 8   long         590696 non-null  float64       \n",
      " 9   geometry     590696 non-null  object        \n",
      "dtypes: datetime64[ns](1), float64(2), int64(4), object(3)\n",
      "memory usage: 45.8+ MB\n"
     ]
    }
   ],
   "source": [
    "##changing data types in the dataset\n",
    "df[\"deaths\"] = df[\"deaths\"].apply(pd.to_numeric)\n",
    "df['date'] = pd.to_datetime(df['date'], format='%Y/%m/%d')\n",
    "df.info()"
   ]
  },
  {
   "cell_type": "code",
   "execution_count": 7,
   "id": "6b1e3d04",
   "metadata": {},
   "outputs": [
    {
     "data": {
      "text/html": [
       "<div>\n",
       "<style scoped>\n",
       "    .dataframe tbody tr th:only-of-type {\n",
       "        vertical-align: middle;\n",
       "    }\n",
       "\n",
       "    .dataframe tbody tr th {\n",
       "        vertical-align: top;\n",
       "    }\n",
       "\n",
       "    .dataframe thead th {\n",
       "        text-align: right;\n",
       "    }\n",
       "</style>\n",
       "<table border=\"1\" class=\"dataframe\">\n",
       "  <thead>\n",
       "    <tr style=\"text-align: right;\">\n",
       "      <th></th>\n",
       "      <th>Unnamed: 0</th>\n",
       "      <th>county_fips</th>\n",
       "      <th>county_name</th>\n",
       "      <th>state_name</th>\n",
       "      <th>state_fips</th>\n",
       "      <th>date</th>\n",
       "      <th>deaths</th>\n",
       "      <th>lat</th>\n",
       "      <th>long</th>\n",
       "      <th>geometry</th>\n",
       "      <th>States_long</th>\n",
       "    </tr>\n",
       "  </thead>\n",
       "  <tbody>\n",
       "    <tr>\n",
       "      <th>0</th>\n",
       "      <td>0</td>\n",
       "      <td>0</td>\n",
       "      <td>Statewide Unallocated</td>\n",
       "      <td>AL</td>\n",
       "      <td>1</td>\n",
       "      <td>2020-01-22</td>\n",
       "      <td>0</td>\n",
       "      <td>NaN</td>\n",
       "      <td>NaN</td>\n",
       "      <td>NaN</td>\n",
       "      <td>Alabama</td>\n",
       "    </tr>\n",
       "    <tr>\n",
       "      <th>1</th>\n",
       "      <td>1</td>\n",
       "      <td>0</td>\n",
       "      <td>Statewide Unallocated</td>\n",
       "      <td>AL</td>\n",
       "      <td>1</td>\n",
       "      <td>2020-01-23</td>\n",
       "      <td>0</td>\n",
       "      <td>NaN</td>\n",
       "      <td>NaN</td>\n",
       "      <td>NaN</td>\n",
       "      <td>Alabama</td>\n",
       "    </tr>\n",
       "    <tr>\n",
       "      <th>2</th>\n",
       "      <td>2</td>\n",
       "      <td>0</td>\n",
       "      <td>Statewide Unallocated</td>\n",
       "      <td>AL</td>\n",
       "      <td>1</td>\n",
       "      <td>2020-01-24</td>\n",
       "      <td>0</td>\n",
       "      <td>NaN</td>\n",
       "      <td>NaN</td>\n",
       "      <td>NaN</td>\n",
       "      <td>Alabama</td>\n",
       "    </tr>\n",
       "    <tr>\n",
       "      <th>3</th>\n",
       "      <td>3</td>\n",
       "      <td>0</td>\n",
       "      <td>Statewide Unallocated</td>\n",
       "      <td>AL</td>\n",
       "      <td>1</td>\n",
       "      <td>2020-01-25</td>\n",
       "      <td>0</td>\n",
       "      <td>NaN</td>\n",
       "      <td>NaN</td>\n",
       "      <td>NaN</td>\n",
       "      <td>Alabama</td>\n",
       "    </tr>\n",
       "    <tr>\n",
       "      <th>4</th>\n",
       "      <td>4</td>\n",
       "      <td>0</td>\n",
       "      <td>Statewide Unallocated</td>\n",
       "      <td>AL</td>\n",
       "      <td>1</td>\n",
       "      <td>2020-01-26</td>\n",
       "      <td>0</td>\n",
       "      <td>NaN</td>\n",
       "      <td>NaN</td>\n",
       "      <td>NaN</td>\n",
       "      <td>Alabama</td>\n",
       "    </tr>\n",
       "  </tbody>\n",
       "</table>\n",
       "</div>"
      ],
      "text/plain": [
       "   Unnamed: 0  county_fips            county_name state_name  state_fips  \\\n",
       "0           0            0  Statewide Unallocated         AL           1   \n",
       "1           1            0  Statewide Unallocated         AL           1   \n",
       "2           2            0  Statewide Unallocated         AL           1   \n",
       "3           3            0  Statewide Unallocated         AL           1   \n",
       "4           4            0  Statewide Unallocated         AL           1   \n",
       "\n",
       "        date  deaths  lat  long geometry States_long  \n",
       "0 2020-01-22       0  NaN   NaN      NaN     Alabama  \n",
       "1 2020-01-23       0  NaN   NaN      NaN     Alabama  \n",
       "2 2020-01-24       0  NaN   NaN      NaN     Alabama  \n",
       "3 2020-01-25       0  NaN   NaN      NaN     Alabama  \n",
       "4 2020-01-26       0  NaN   NaN      NaN     Alabama  "
      ]
     },
     "execution_count": 7,
     "metadata": {},
     "output_type": "execute_result"
    }
   ],
   "source": [
    "##standardising state names in both datasets\n",
    "states = {\"AL\":\"Alabama\", \"AK\":\"Alaska\", \"AZ\":\"Arizona\", \"AR\":\"Arkansas\", \"CA\":\"California\", \"CO\":\"Colorado\", \"CT\":\"Connecticut\", \n",
    "          \"DC\":\"Washington DC\", \"DE\":\"Delaware\", \"FL\":\"Florida\", \"GA\":\"Georgia\", \"HI\":\"Hawaii\", \"ID\":\"Idaho\", \"IL\":\"Illinois\", \n",
    "          \"IN\":\"Indiana\", \"IA\":\"Iowa\", \"KS\":\"Kansas\", \"KY\":\"Kentucky\", \"LA\":\"Louisiana\", \"ME\":\"Maine\", \"MD\":\"Maryland\",\n",
    "          \"MA\":\"Massachusetts\", \"MI\":\"Michigan\", \"MN\":\"Minnesota\", \"MS\":\"Mississippi\", \"MO\":\"Missouri\", \"MT\":\"Montana\",\n",
    "          \"NE\":\"Nebraska\", \"NV\":\"Nevada\", \"NH\":\"New Hampshire\", \"NJ\":\"New Jersey\", \"NM\":\"New Mexico\", \"NY\":\"New York\", \n",
    "          \"NC\":\"North Carolina\", \"ND\":\"North Dakota\", \"OH\":\"Ohio\", \"OK\":\"Oklahoma\", \"OR\":\"Oregon\", \"PA\":\"Pennsylvania\", \n",
    "          \"RI\":\"Rhode Island\", \"SC\":\"South Carolina\", \"SD\":\"South Dakota\", \"TN\":\"Tennessee\", \"TX\":\"Texas\", \"UT\":\"Utah\", \"VT\":\"Vermont\",\n",
    "          \"VA\":\"Virginia\", \"WA\":\"Washington\", \"WV\":\"West Virginia\",\"WI\":\"Wisconsin\", \"WY\":\"Wyoming\"}\n",
    " \n",
    "df[\"States_long\"] = df.state_name.map(states)\n",
    "df[[\"state_name\", \"States_long\"]]\n",
    "df.head()"
   ]
  },
  {
   "cell_type": "code",
   "execution_count": 8,
   "id": "9a572777",
   "metadata": {},
   "outputs": [
    {
     "data": {
      "text/html": [
       "<div>\n",
       "<style scoped>\n",
       "    .dataframe tbody tr th:only-of-type {\n",
       "        vertical-align: middle;\n",
       "    }\n",
       "\n",
       "    .dataframe tbody tr th {\n",
       "        vertical-align: top;\n",
       "    }\n",
       "\n",
       "    .dataframe thead th {\n",
       "        text-align: right;\n",
       "    }\n",
       "</style>\n",
       "<table border=\"1\" class=\"dataframe\">\n",
       "  <thead>\n",
       "    <tr style=\"text-align: right;\">\n",
       "      <th></th>\n",
       "      <th>Unnamed: 0</th>\n",
       "      <th>date</th>\n",
       "      <th>state</th>\n",
       "      <th>fips</th>\n",
       "      <th>cases</th>\n",
       "      <th>deaths</th>\n",
       "    </tr>\n",
       "  </thead>\n",
       "  <tbody>\n",
       "    <tr>\n",
       "      <th>8149</th>\n",
       "      <td>8149</td>\n",
       "      <td>2020-07-28</td>\n",
       "      <td>Virginia</td>\n",
       "      <td>51</td>\n",
       "      <td>86994</td>\n",
       "      <td>2095</td>\n",
       "    </tr>\n",
       "    <tr>\n",
       "      <th>8150</th>\n",
       "      <td>8150</td>\n",
       "      <td>2020-07-28</td>\n",
       "      <td>Washington</td>\n",
       "      <td>53</td>\n",
       "      <td>56576</td>\n",
       "      <td>1633</td>\n",
       "    </tr>\n",
       "    <tr>\n",
       "      <th>8151</th>\n",
       "      <td>8151</td>\n",
       "      <td>2020-07-28</td>\n",
       "      <td>West Virginia</td>\n",
       "      <td>54</td>\n",
       "      <td>6173</td>\n",
       "      <td>111</td>\n",
       "    </tr>\n",
       "    <tr>\n",
       "      <th>8152</th>\n",
       "      <td>8152</td>\n",
       "      <td>2020-07-28</td>\n",
       "      <td>Wisconsin</td>\n",
       "      <td>55</td>\n",
       "      <td>54114</td>\n",
       "      <td>916</td>\n",
       "    </tr>\n",
       "    <tr>\n",
       "      <th>8153</th>\n",
       "      <td>8153</td>\n",
       "      <td>2020-07-28</td>\n",
       "      <td>Wyoming</td>\n",
       "      <td>56</td>\n",
       "      <td>2589</td>\n",
       "      <td>26</td>\n",
       "    </tr>\n",
       "  </tbody>\n",
       "</table>\n",
       "</div>"
      ],
      "text/plain": [
       "      Unnamed: 0        date          state  fips  cases  deaths\n",
       "8149        8149  2020-07-28       Virginia    51  86994    2095\n",
       "8150        8150  2020-07-28     Washington    53  56576    1633\n",
       "8151        8151  2020-07-28  West Virginia    54   6173     111\n",
       "8152        8152  2020-07-28      Wisconsin    55  54114     916\n",
       "8153        8153  2020-07-28        Wyoming    56   2589      26"
      ]
     },
     "execution_count": 8,
     "metadata": {},
     "output_type": "execute_result"
    }
   ],
   "source": [
    "##reading the covid-19-state-level-data copy.csv file\n",
    "df1 = pd.read_csv(\"covid-19-state-level-data copy.csv\")\n",
    "df1.tail()"
   ]
  },
  {
   "cell_type": "code",
   "execution_count": 9,
   "id": "2061761f",
   "metadata": {},
   "outputs": [
    {
     "name": "stdout",
     "output_type": "stream",
     "text": [
      "<class 'pandas.core.frame.DataFrame'>\n",
      "RangeIndex: 8154 entries, 0 to 8153\n",
      "Data columns (total 6 columns):\n",
      " #   Column      Non-Null Count  Dtype \n",
      "---  ------      --------------  ----- \n",
      " 0   Unnamed: 0  8154 non-null   int64 \n",
      " 1   date        8154 non-null   object\n",
      " 2   state       8154 non-null   object\n",
      " 3   fips        8154 non-null   int64 \n",
      " 4   cases       8154 non-null   int64 \n",
      " 5   deaths      8154 non-null   int64 \n",
      "dtypes: int64(4), object(2)\n",
      "memory usage: 382.3+ KB\n"
     ]
    }
   ],
   "source": [
    "df1.info()"
   ]
  },
  {
   "cell_type": "code",
   "execution_count": 10,
   "id": "20cd12e9",
   "metadata": {},
   "outputs": [
    {
     "data": {
      "text/plain": [
       "Unnamed: 0    0\n",
       "date          0\n",
       "state         0\n",
       "fips          0\n",
       "cases         0\n",
       "deaths        0\n",
       "dtype: int64"
      ]
     },
     "execution_count": 10,
     "metadata": {},
     "output_type": "execute_result"
    }
   ],
   "source": [
    "df1.isna().sum()"
   ]
  },
  {
   "cell_type": "code",
   "execution_count": 11,
   "id": "e35fb635",
   "metadata": {},
   "outputs": [
    {
     "data": {
      "text/plain": [
       "Unnamed: 0    8154\n",
       "date           190\n",
       "state           55\n",
       "fips            55\n",
       "cases         6097\n",
       "deaths        2572\n",
       "dtype: int64"
      ]
     },
     "execution_count": 11,
     "metadata": {},
     "output_type": "execute_result"
    }
   ],
   "source": [
    "df1.nunique()"
   ]
  },
  {
   "cell_type": "code",
   "execution_count": 12,
   "id": "7c8630f3",
   "metadata": {},
   "outputs": [
    {
     "name": "stdout",
     "output_type": "stream",
     "text": [
      "<class 'pandas.core.frame.DataFrame'>\n",
      "RangeIndex: 600660 entries, 0 to 600659\n",
      "Data columns (total 11 columns):\n",
      " #   Column       Non-Null Count   Dtype         \n",
      "---  ------       --------------   -----         \n",
      " 0   Unnamed: 0   600660 non-null  int64         \n",
      " 1   county_fips  600660 non-null  int64         \n",
      " 2   county_name  600660 non-null  object        \n",
      " 3   state_name   600660 non-null  object        \n",
      " 4   state_fips   600660 non-null  int64         \n",
      " 5   date         600660 non-null  datetime64[ns]\n",
      " 6   deaths       600660 non-null  int64         \n",
      " 7   lat          590696 non-null  float64       \n",
      " 8   long         590696 non-null  float64       \n",
      " 9   geometry     590696 non-null  object        \n",
      " 10  States_long  600660 non-null  object        \n",
      "dtypes: datetime64[ns](1), float64(2), int64(4), object(4)\n",
      "memory usage: 50.4+ MB\n"
     ]
    }
   ],
   "source": [
    "##changing data types in the dataset\n",
    "df1[[\"deaths\",\"cases\"]] = df1[[\"deaths\",\"cases\"]].apply(pd.to_numeric)\n",
    "df1['date'] = pd.to_datetime(df['date'], format='%Y/%m/%d')\n",
    "df.info()"
   ]
  },
  {
   "cell_type": "code",
   "execution_count": 13,
   "id": "f8e3c45a",
   "metadata": {},
   "outputs": [
    {
     "name": "stdout",
     "output_type": "stream",
     "text": [
      "DataComPy Comparison\n",
      "--------------------\n",
      "\n",
      "DataFrame Summary\n",
      "-----------------\n",
      "\n",
      "      DataFrame  Columns    Rows\n",
      "0  county_level       11  600660\n",
      "1   state_level        6    8154\n",
      "\n",
      "Column Summary\n",
      "--------------\n",
      "\n",
      "Number of columns in common: 3\n",
      "Number of columns in county_level but not in state_level: 8\n",
      "Number of columns in state_level but not in county_level: 3\n",
      "\n",
      "Row Summary\n",
      "-----------\n",
      "\n",
      "Matched on: date\n",
      "Any duplicates on match values: Yes\n",
      "Absolute Tolerance: 0.0001\n",
      "Relative Tolerance: 0\n",
      "Number of rows in common: 8,154\n",
      "Number of rows in county_level but not in state_level: 592,506\n",
      "Number of rows in state_level but not in county_level: 0\n",
      "\n",
      "Number of rows with some compared columns unequal: 7,512\n",
      "Number of rows with all compared columns equal: 642\n",
      "\n",
      "Column Comparison\n",
      "-----------------\n",
      "\n",
      "Number of columns compared with some values unequal: 1\n",
      "Number of columns compared with all values equal: 2\n",
      "Total number of values which compare unequal: 7,512\n",
      "\n",
      "Columns with Unequal Values or Types\n",
      "------------------------------------\n",
      "\n",
      "   Column county_level dtype state_level dtype  # Unequal  Max Diff  # Null Diff\n",
      "0  deaths              int64             int64       7512   32333.0            0\n",
      "\n",
      "Sample Rows with Unequal Values\n",
      "-------------------------------\n",
      "\n",
      "           date  deaths (county_level)  deaths (state_level)\n",
      "1529 2020-02-16                      0                   3.0\n",
      "1572 2020-03-30                      0                  18.0\n",
      "5668 2020-02-19                      0                  75.0\n",
      "5908 2020-04-11                      0                3060.0\n",
      "6519 2020-05-28                      2                2624.0\n",
      "1079 2020-06-09                      1                   9.0\n",
      "693  2020-05-30                      1                   6.0\n",
      "5888 2020-03-22                      0                  78.0\n",
      "6199 2020-07-23                     10                 989.0\n",
      "3404 2020-02-11                      0                  25.0\n",
      "\n",
      "Sample Rows Only in county_level (First 10 Columns)\n",
      "---------------------------------------------------\n",
      "\n",
      "        unnamed: 0  county_fips       county_name state_name  state_fips       date  deaths        lat        long                          geometry\n",
      "532693      532693        49019      Grand County         UT          49 2020-04-20       0  38.981038 -109.570449  POINT (-109.5704487 38.98103848)\n",
      "157096      157096        19059  Dickinson County         IA          19 2020-05-17       0  43.377877  -95.151021   POINT (-95.1510206 43.37787725)\n",
      "558068      558068        51550   Chesapeake city         VA          51 2020-04-15       4  36.676700  -76.305457  POINT (-76.30545744 36.67670048)\n",
      "263884      263884        27129   Renville County         MN          27 2020-05-21       0  44.728364  -94.945537  POINT (-94.94553734 44.72836381)\n",
      "528554      528554        48485    Wichita County         TX          48 2020-04-17       0  33.988429  -98.704103   POINT (-98.7041034 33.98842886)\n",
      "334174      334174        32001  Churchill County         NV          32 2020-04-29       1  39.581057 -118.339461  POINT (-118.3394607 39.58105744)\n",
      "459412      459412        46077  Kingsbury County         SD          46 2020-05-29       0  44.369562  -97.491394   POINT (-97.4913945 44.36956169)\n",
      "458834      458834        46071    Jackson County         SD          46 2020-05-15       0  43.693184 -101.625506  POINT (-101.6255063 43.69318385)\n",
      "366085      366085        37043       Clay County         NC          37 2020-03-11       0  35.057043  -83.743536  POINT (-83.74353633 35.05704275)\n",
      "519601      519601        48389     Reeves County         TX          48 2020-06-27       0  31.323233 -103.690390  POINT (-103.6903896 31.32323325)\n",
      "\n",
      "\n"
     ]
    }
   ],
   "source": [
    "import datacompy\n",
    "\n",
    "compare = datacompy.Compare(\n",
    "df,\n",
    "df1,\n",
    "join_columns='date',\n",
    "abs_tol=0.0001,\n",
    "rel_tol=0,\n",
    "df1_name='county_level',\n",
    "df2_name='state_level')\n",
    "print(compare.report())"
   ]
  },
  {
   "cell_type": "code",
   "execution_count": 14,
   "id": "4a359527",
   "metadata": {},
   "outputs": [
    {
     "data": {
      "text/html": [
       "<div>\n",
       "<style scoped>\n",
       "    .dataframe tbody tr th:only-of-type {\n",
       "        vertical-align: middle;\n",
       "    }\n",
       "\n",
       "    .dataframe tbody tr th {\n",
       "        vertical-align: top;\n",
       "    }\n",
       "\n",
       "    .dataframe thead th {\n",
       "        text-align: right;\n",
       "    }\n",
       "</style>\n",
       "<table border=\"1\" class=\"dataframe\">\n",
       "  <thead>\n",
       "    <tr style=\"text-align: right;\">\n",
       "      <th></th>\n",
       "      <th>unnamed: 0</th>\n",
       "      <th>fips</th>\n",
       "      <th>cases</th>\n",
       "      <th>deaths</th>\n",
       "    </tr>\n",
       "    <tr>\n",
       "      <th>state</th>\n",
       "      <th></th>\n",
       "      <th></th>\n",
       "      <th></th>\n",
       "      <th></th>\n",
       "    </tr>\n",
       "  </thead>\n",
       "  <tbody>\n",
       "    <tr>\n",
       "      <th>Alabama</th>\n",
       "      <td>597881</td>\n",
       "      <td>138</td>\n",
       "      <td>2964684</td>\n",
       "      <td>75974</td>\n",
       "    </tr>\n",
       "    <tr>\n",
       "      <th>Alaska</th>\n",
       "      <td>598558</td>\n",
       "      <td>278</td>\n",
       "      <td>101302</td>\n",
       "      <td>1149</td>\n",
       "    </tr>\n",
       "    <tr>\n",
       "      <th>Arizona</th>\n",
       "      <td>606073</td>\n",
       "      <td>740</td>\n",
       "      <td>5441642</td>\n",
       "      <td>131475</td>\n",
       "    </tr>\n",
       "    <tr>\n",
       "      <th>Arkansas</th>\n",
       "      <td>599331</td>\n",
       "      <td>700</td>\n",
       "      <td>1456978</td>\n",
       "      <td>19575</td>\n",
       "    </tr>\n",
       "    <tr>\n",
       "      <th>California</th>\n",
       "      <td>606403</td>\n",
       "      <td>1116</td>\n",
       "      <td>18225066</td>\n",
       "      <td>491864</td>\n",
       "    </tr>\n",
       "  </tbody>\n",
       "</table>\n",
       "</div>"
      ],
      "text/plain": [
       "            unnamed: 0  fips     cases  deaths\n",
       "state                                         \n",
       "Alabama         597881   138   2964684   75974\n",
       "Alaska          598558   278    101302    1149\n",
       "Arizona         606073   740   5441642  131475\n",
       "Arkansas        599331   700   1456978   19575\n",
       "California      606403  1116  18225066  491864"
      ]
     },
     "execution_count": 14,
     "metadata": {},
     "output_type": "execute_result"
    }
   ],
   "source": [
    "##preparing both the datasets for a t test to check if the data is similar to each other\n",
    "df3=df.groupby(by=[\"state_name\"]).sum()\n",
    "df3.head()\n",
    "\n",
    "df4=df1.groupby(by=[\"state\"]).sum()\n",
    "df4.head()"
   ]
  },
  {
   "cell_type": "code",
   "execution_count": 15,
   "id": "11143078",
   "metadata": {},
   "outputs": [],
   "source": [
    "##conducting a t test to see if both the datasets are similar\n",
    "##the common data attributes between both the datasets are deaths, we will compare both the deaths and check if \n",
    "##they are similar to each other\n",
    "deaths1=pd.DataFrame(df3.deaths)\n",
    "deaths2=pd.DataFrame(df4.deaths)\n",
    "data1 = deaths1.to_numpy()\n",
    "data2 = deaths2.to_numpy()"
   ]
  },
  {
   "cell_type": "code",
   "execution_count": 16,
   "id": "b2490339",
   "metadata": {},
   "outputs": [
    {
     "name": "stdout",
     "output_type": "stream",
     "text": [
      "213218181170.12457 205709109853.36987\n",
      "ratio of larger variance to smaller variance is: 1.0365033484521282\n"
     ]
    }
   ],
   "source": [
    "v1, v2 = (np.var(data1), np.var(data2))\n",
    "print(v1, v2)\n",
    "print(\"ratio of larger variance to smaller variance is:\", v1/v2)\n"
   ]
  },
  {
   "cell_type": "code",
   "execution_count": 17,
   "id": "d2359a8a",
   "metadata": {},
   "outputs": [
    {
     "data": {
      "text/plain": [
       "Ttest_indResult(statistic=array([0.12081597]), pvalue=array([0.90406991]))"
      ]
     },
     "execution_count": 17,
     "metadata": {},
     "output_type": "execute_result"
    }
   ],
   "source": [
    "import scipy.stats as stats\n",
    "#perform two sample t-test with equal variances\n",
    "stats.ttest_ind(a=deaths1, b=deaths2, equal_var=True)\n",
    "\n",
    "\n",
    "##Because the p-value (= 0.9) > alpha (= 0.05), \n",
    "##we reject the null hypothesis and can say that the datasets are similar to each other, \n",
    "##i.e., the sample means in both datasets are similar"
   ]
  },
  {
   "cell_type": "code",
   "execution_count": 18,
   "id": "0499ddba",
   "metadata": {
    "scrolled": true
   },
   "outputs": [
    {
     "data": {
      "text/html": [
       "<div>\n",
       "<style scoped>\n",
       "    .dataframe tbody tr th:only-of-type {\n",
       "        vertical-align: middle;\n",
       "    }\n",
       "\n",
       "    .dataframe tbody tr th {\n",
       "        vertical-align: top;\n",
       "    }\n",
       "\n",
       "    .dataframe thead th {\n",
       "        text-align: right;\n",
       "    }\n",
       "</style>\n",
       "<table border=\"1\" class=\"dataframe\">\n",
       "  <thead>\n",
       "    <tr style=\"text-align: right;\">\n",
       "      <th></th>\n",
       "      <th>unnamed: 0</th>\n",
       "      <th>date</th>\n",
       "      <th>state</th>\n",
       "      <th>fips</th>\n",
       "      <th>cases</th>\n",
       "      <th>deaths</th>\n",
       "      <th>Case_fatality_rate</th>\n",
       "    </tr>\n",
       "  </thead>\n",
       "  <tbody>\n",
       "    <tr>\n",
       "      <th>0</th>\n",
       "      <td>0</td>\n",
       "      <td>2020-01-22</td>\n",
       "      <td>Washington</td>\n",
       "      <td>53</td>\n",
       "      <td>1</td>\n",
       "      <td>0</td>\n",
       "      <td>0.000000</td>\n",
       "    </tr>\n",
       "    <tr>\n",
       "      <th>1</th>\n",
       "      <td>1</td>\n",
       "      <td>2020-01-23</td>\n",
       "      <td>Washington</td>\n",
       "      <td>53</td>\n",
       "      <td>1</td>\n",
       "      <td>0</td>\n",
       "      <td>0.000000</td>\n",
       "    </tr>\n",
       "    <tr>\n",
       "      <th>2</th>\n",
       "      <td>2</td>\n",
       "      <td>2020-01-24</td>\n",
       "      <td>Washington</td>\n",
       "      <td>53</td>\n",
       "      <td>1</td>\n",
       "      <td>0</td>\n",
       "      <td>0.000000</td>\n",
       "    </tr>\n",
       "    <tr>\n",
       "      <th>3</th>\n",
       "      <td>3</td>\n",
       "      <td>2020-01-25</td>\n",
       "      <td>Illinois</td>\n",
       "      <td>17</td>\n",
       "      <td>1</td>\n",
       "      <td>0</td>\n",
       "      <td>0.000000</td>\n",
       "    </tr>\n",
       "    <tr>\n",
       "      <th>4</th>\n",
       "      <td>4</td>\n",
       "      <td>2020-01-26</td>\n",
       "      <td>Washington</td>\n",
       "      <td>53</td>\n",
       "      <td>1</td>\n",
       "      <td>0</td>\n",
       "      <td>0.000000</td>\n",
       "    </tr>\n",
       "    <tr>\n",
       "      <th>...</th>\n",
       "      <td>...</td>\n",
       "      <td>...</td>\n",
       "      <td>...</td>\n",
       "      <td>...</td>\n",
       "      <td>...</td>\n",
       "      <td>...</td>\n",
       "      <td>...</td>\n",
       "    </tr>\n",
       "    <tr>\n",
       "      <th>8149</th>\n",
       "      <td>8149</td>\n",
       "      <td>2020-03-27</td>\n",
       "      <td>Virginia</td>\n",
       "      <td>51</td>\n",
       "      <td>86994</td>\n",
       "      <td>2095</td>\n",
       "      <td>2.408212</td>\n",
       "    </tr>\n",
       "    <tr>\n",
       "      <th>8150</th>\n",
       "      <td>8150</td>\n",
       "      <td>2020-03-28</td>\n",
       "      <td>Washington</td>\n",
       "      <td>53</td>\n",
       "      <td>56576</td>\n",
       "      <td>1633</td>\n",
       "      <td>2.886383</td>\n",
       "    </tr>\n",
       "    <tr>\n",
       "      <th>8151</th>\n",
       "      <td>8151</td>\n",
       "      <td>2020-03-29</td>\n",
       "      <td>West Virginia</td>\n",
       "      <td>54</td>\n",
       "      <td>6173</td>\n",
       "      <td>111</td>\n",
       "      <td>1.798153</td>\n",
       "    </tr>\n",
       "    <tr>\n",
       "      <th>8152</th>\n",
       "      <td>8152</td>\n",
       "      <td>2020-03-30</td>\n",
       "      <td>Wisconsin</td>\n",
       "      <td>55</td>\n",
       "      <td>54114</td>\n",
       "      <td>916</td>\n",
       "      <td>1.692723</td>\n",
       "    </tr>\n",
       "    <tr>\n",
       "      <th>8153</th>\n",
       "      <td>8153</td>\n",
       "      <td>2020-03-31</td>\n",
       "      <td>Wyoming</td>\n",
       "      <td>56</td>\n",
       "      <td>2589</td>\n",
       "      <td>26</td>\n",
       "      <td>1.004249</td>\n",
       "    </tr>\n",
       "  </tbody>\n",
       "</table>\n",
       "<p>8154 rows × 7 columns</p>\n",
       "</div>"
      ],
      "text/plain": [
       "      unnamed: 0       date          state  fips  cases  deaths  \\\n",
       "0              0 2020-01-22     Washington    53      1       0   \n",
       "1              1 2020-01-23     Washington    53      1       0   \n",
       "2              2 2020-01-24     Washington    53      1       0   \n",
       "3              3 2020-01-25       Illinois    17      1       0   \n",
       "4              4 2020-01-26     Washington    53      1       0   \n",
       "...          ...        ...            ...   ...    ...     ...   \n",
       "8149        8149 2020-03-27       Virginia    51  86994    2095   \n",
       "8150        8150 2020-03-28     Washington    53  56576    1633   \n",
       "8151        8151 2020-03-29  West Virginia    54   6173     111   \n",
       "8152        8152 2020-03-30      Wisconsin    55  54114     916   \n",
       "8153        8153 2020-03-31        Wyoming    56   2589      26   \n",
       "\n",
       "      Case_fatality_rate  \n",
       "0               0.000000  \n",
       "1               0.000000  \n",
       "2               0.000000  \n",
       "3               0.000000  \n",
       "4               0.000000  \n",
       "...                  ...  \n",
       "8149            2.408212  \n",
       "8150            2.886383  \n",
       "8151            1.798153  \n",
       "8152            1.692723  \n",
       "8153            1.004249  \n",
       "\n",
       "[8154 rows x 7 columns]"
      ]
     },
     "metadata": {},
     "output_type": "display_data"
    }
   ],
   "source": [
    "##calculating Case Fatality rate in the state level covid file\n",
    "df1['Case_fatality_rate']=(df1['deaths']/df1['cases'])*100\n",
    "display(df1)"
   ]
  },
  {
   "cell_type": "code",
   "execution_count": 29,
   "id": "99131574",
   "metadata": {},
   "outputs": [],
   "source": [
    "##exporting the data to excel for visualisation in tableau\n",
    "df.to_excel(r'C:\\Users\\Sharon\\Documents\\portfolio project\\countylevelcoviddata.xlsx')\n",
    "df1.to_excel(r'C:\\Users\\Sharon\\Documents\\portfolio project\\Covidstateleveldata.xlsx')"
   ]
  },
  {
   "cell_type": "code",
   "execution_count": 20,
   "id": "b0720d97",
   "metadata": {},
   "outputs": [
    {
     "name": "stdout",
     "output_type": "stream",
     "text": [
      "top states and counties with deaths for the month of March\n"
     ]
    },
    {
     "data": {
      "text/plain": [
       "['New York', 'Washington', 'California']"
      ]
     },
     "metadata": {},
     "output_type": "display_data"
    },
    {
     "data": {
      "text/plain": [
       "<bound method Series.sort_values of states_long  states_long  county_name                       \n",
       "California   California   Santa Clara County                     336\n",
       "                          Los Angeles County                     266\n",
       "                          Riverside County                       100\n",
       "New York     New York     New York City Unallocated/Probable    1903\n",
       "                          Queens County                         1636\n",
       "                          Kings County                          1169\n",
       "Washington   Washington   King County                           1788\n",
       "                          Snohomish County                       263\n",
       "                          Clark County                            61\n",
       "Name: deaths, dtype: int64>"
      ]
     },
     "metadata": {},
     "output_type": "display_data"
    }
   ],
   "source": [
    "## extracting monthly case data for 4 months\n",
    "##month of March\n",
    "\n",
    "print(\"top states and counties with deaths for the month of March\")\n",
    "mar = df[df['date'].dt.strftime('%Y-%m') == '2020-03']\n",
    "\n",
    "state_mar=mar.groupby(['states_long']).agg({'deaths':'sum'})\n",
    "largest3 = pd.DataFrame(state_mar[\"deaths\"].nlargest(3)).reset_index()\n",
    "largest3=largest3.drop(['deaths'], axis=1)\n",
    "v=largest3.squeeze()\n",
    "a=largest3.values.tolist()\n",
    "\n",
    "from itertools import chain\n",
    "l = list(chain(*a))\n",
    "display(l)\n",
    "\n",
    "mar= mar.groupby(['states_long','county_name']).agg({'deaths':'sum'})\n",
    "\n",
    "mar1=pd.DataFrame(mar).reset_index()\n",
    "\n",
    "mar2 = mar1[mar1['states_long'].isin(l)]\n",
    "mar3=mar2.groupby(['states_long','county_name']).agg({'deaths':'sum'})\n",
    "\n",
    "grouped = mar3.groupby(['states_long'])['deaths'].nlargest(3).sort_values\n",
    "\n",
    "display(grouped)"
   ]
  },
  {
   "cell_type": "code",
   "execution_count": 21,
   "id": "a805e702",
   "metadata": {},
   "outputs": [
    {
     "name": "stdout",
     "output_type": "stream",
     "text": [
      "top states and counties with deaths for the month of April\n"
     ]
    },
    {
     "data": {
      "text/plain": [
       "['New York', 'New Jersey', 'Michigan']"
      ]
     },
     "metadata": {},
     "output_type": "display_data"
    },
    {
     "data": {
      "text/plain": [
       "<bound method Series.sort_values of states_long  states_long  county_name   \n",
       "Michigan     Michigan     Wayne County      27930\n",
       "                          Oakland County    11879\n",
       "                          Macomb County      9481\n",
       "New Jersey   New Jersey   Essex County      17920\n",
       "                          Bergen County     17886\n",
       "                          Hudson County     10778\n",
       "New York     New York     Kings County      86067\n",
       "                          Queens County     84238\n",
       "                          Bronx County      58916\n",
       "Name: deaths, dtype: int64>"
      ]
     },
     "metadata": {},
     "output_type": "display_data"
    }
   ],
   "source": [
    "## extracting monthly case data for 4 months\n",
    "##month of April\n",
    "\n",
    "print(\"top states and counties with deaths for the month of April\")\n",
    "mar = df[df['date'].dt.strftime('%Y-%m') == '2020-04']\n",
    "\n",
    "state_mar=mar.groupby(['states_long']).agg({'deaths':'sum'})\n",
    "largest3 = pd.DataFrame(state_mar[\"deaths\"].nlargest(3)).reset_index()\n",
    "largest3=largest3.drop(['deaths'], axis=1)\n",
    "v=largest3.squeeze()\n",
    "a=largest3.values.tolist()\n",
    "\n",
    "from itertools import chain\n",
    "l = list(chain(*a))\n",
    "display(l)\n",
    "\n",
    "mar= mar.groupby(['states_long','county_name']).agg({'deaths':'sum'})\n",
    "\n",
    "mar1=pd.DataFrame(mar).reset_index()\n",
    "\n",
    "mar2 = mar1[mar1['states_long'].isin(l)]\n",
    "mar3=mar2.groupby(['states_long','county_name']).agg({'deaths':'sum'})\n",
    "\n",
    "grouped = mar3.groupby(['states_long'])['deaths'].nlargest(3).sort_values\n",
    "\n",
    "display(grouped)"
   ]
  },
  {
   "cell_type": "code",
   "execution_count": 22,
   "id": "dd94d57c",
   "metadata": {},
   "outputs": [
    {
     "name": "stdout",
     "output_type": "stream",
     "text": [
      "top states and counties with deaths for the month of May\n"
     ]
    },
    {
     "data": {
      "text/plain": [
       "['New York', 'New Jersey', 'Massachusetts']"
      ]
     },
     "metadata": {},
     "output_type": "display_data"
    },
    {
     "data": {
      "text/plain": [
       "<bound method Series.sort_values of states_long    states_long    county_name     \n",
       "Massachusetts  Massachusetts  Middlesex County     40968\n",
       "                              Suffolk County       23303\n",
       "                              Essex County         22590\n",
       "New Jersey     New Jersey     Essex County         46204\n",
       "                              Bergen County        44016\n",
       "                              Hudson County        31944\n",
       "New York       New York       Kings County        192331\n",
       "                              Queens County       180926\n",
       "                              Bronx County        128759\n",
       "Name: deaths, dtype: int64>"
      ]
     },
     "metadata": {},
     "output_type": "display_data"
    }
   ],
   "source": [
    "## extracting monthly case data for 4 months\n",
    "##month of May\n",
    "\n",
    "print(\"top states and counties with deaths for the month of May\")\n",
    "mar = df[df['date'].dt.strftime('%Y-%m') == '2020-05']\n",
    "\n",
    "state_mar=mar.groupby(['states_long']).agg({'deaths':'sum'})\n",
    "largest3 = pd.DataFrame(state_mar[\"deaths\"].nlargest(3)).reset_index()\n",
    "largest3=largest3.drop(['deaths'], axis=1)\n",
    "v=largest3.squeeze()\n",
    "a=largest3.values.tolist()\n",
    "\n",
    "from itertools import chain\n",
    "l = list(chain(*a))\n",
    "display(l)\n",
    "\n",
    "mar= mar.groupby(['states_long','county_name']).agg({'deaths':'sum'})\n",
    "\n",
    "mar1=pd.DataFrame(mar).reset_index()\n",
    "\n",
    "mar2 = mar1[mar1['states_long'].isin(l)]\n",
    "mar3=mar2.groupby(['states_long','county_name']).agg({'deaths':'sum'})\n",
    "\n",
    "grouped = mar3.groupby(['states_long'])['deaths'].nlargest(3).sort_values\n",
    "\n",
    "display(grouped)"
   ]
  },
  {
   "cell_type": "code",
   "execution_count": 23,
   "id": "9127d618",
   "metadata": {},
   "outputs": [
    {
     "name": "stdout",
     "output_type": "stream",
     "text": [
      "top states and counties with deaths for the month of June\n"
     ]
    },
    {
     "data": {
      "text/plain": [
       "['New York', 'New Jersey', 'Massachusetts']"
      ]
     },
     "metadata": {},
     "output_type": "display_data"
    },
    {
     "data": {
      "text/plain": [
       "<bound method Series.sort_values of states_long    states_long    county_name     \n",
       "Massachusetts  Massachusetts  Middlesex County     52919\n",
       "                              Essex County         31351\n",
       "                              Suffolk County       28638\n",
       "New Jersey     New Jersey     Essex County         53135\n",
       "                              Bergen County        50983\n",
       "                              Hudson County        38048\n",
       "New York       New York       Kings County        207704\n",
       "                              Queens County       194043\n",
       "                              Bronx County        137984\n",
       "Name: deaths, dtype: int64>"
      ]
     },
     "metadata": {},
     "output_type": "display_data"
    }
   ],
   "source": [
    "## extracting monthly case data for 4 months\n",
    "##month of June\n",
    "\n",
    "print(\"top states and counties with deaths for the month of June\")\n",
    "mar = df[df['date'].dt.strftime('%Y-%m') == '2020-06']\n",
    "\n",
    "state_mar=mar.groupby(['states_long']).agg({'deaths':'sum'})\n",
    "largest3 = pd.DataFrame(state_mar[\"deaths\"].nlargest(3)).reset_index()\n",
    "largest3=largest3.drop(['deaths'], axis=1)\n",
    "v=largest3.squeeze()\n",
    "a=largest3.values.tolist()\n",
    "\n",
    "from itertools import chain\n",
    "l = list(chain(*a))\n",
    "display(l)\n",
    "\n",
    "mar= mar.groupby(['states_long','county_name']).agg({'deaths':'sum'})\n",
    "\n",
    "mar1=pd.DataFrame(mar).reset_index()\n",
    "\n",
    "mar2 = mar1[mar1['states_long'].isin(l)]\n",
    "mar3=mar2.groupby(['states_long','county_name']).agg({'deaths':'sum'})\n",
    "\n",
    "grouped = mar3.groupby(['states_long'])['deaths'].nlargest(3).sort_values\n",
    "\n",
    "display(grouped)"
   ]
  },
  {
   "cell_type": "code",
   "execution_count": null,
   "id": "806f4aad",
   "metadata": {},
   "outputs": [],
   "source": []
  }
 ],
 "metadata": {
  "kernelspec": {
   "display_name": "Python 3",
   "language": "python",
   "name": "python3"
  },
  "language_info": {
   "codemirror_mode": {
    "name": "ipython",
    "version": 3
   },
   "file_extension": ".py",
   "mimetype": "text/x-python",
   "name": "python",
   "nbconvert_exporter": "python",
   "pygments_lexer": "ipython3",
   "version": "3.8.8"
  }
 },
 "nbformat": 4,
 "nbformat_minor": 5
}
